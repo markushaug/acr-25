{
 "cells": [
  {
   "cell_type": "markdown",
   "metadata": {},
   "source": [
    "### Evaluation of Variational Autoencoder (VAE) for Credit Card"
   ]
  },
  {
   "cell_type": "markdown",
   "metadata": {},
   "source": [
    "## The Method\n",
    "\n",
    "1. Prepare data & Partition the data into 80-20 train-test split\n",
    "2. Define Models & Parameters\n",
    "3. Perform Cross-Validation on the training data\n",
    "3. (Re)Train the models on the training data, either vanilla model or with best hyperparameters\n",
    "4. Evaluate the (re)trained models on the test data\n",
    "5. Final evaluation of the models\n",
    "\n",
    "![The Method](method.png)\n",
    "\n",
    "Source: [scikit-learn.org - Cross-validation](https://scikit-learn.org/1.5/modules/cross_validation.html#cross-validation-and-model-selection)"
   ]
  },
  {
   "cell_type": "code",
   "execution_count": 3,
   "metadata": {},
   "outputs": [],
   "source": [
    "# Import libraries\n",
    "import pandas as pd\n",
    "import numpy as np\n",
    "from pandas import DataFrame as df\n",
    "import matplotlib.pyplot as plt\n",
    "\n",
    "from sklearn.model_selection import train_test_split, RandomizedSearchCV, cross_validate\n",
    "from sklearn.pipeline import Pipeline\n",
    "from imblearn.pipeline import Pipeline as imblearn_pipeline\n",
    "\n",
    "from sklearn.metrics import make_scorer, classification_report, precision_score, recall_score, f1_score\n",
    "from sklearn.model_selection import StratifiedKFold\n",
    "from sklearn.metrics import confusion_matrix, ConfusionMatrixDisplay\n",
    "from sklearn.model_selection import cross_val_score, StratifiedKFold\n",
    "\n",
    "from sklearn.preprocessing import OneHotEncoder, LabelEncoder, StandardScaler\n",
    "from sklearn.compose import ColumnTransformer\n",
    "from pyod.models.vae import VAE\n",
    "\n",
    "from pprint import pprint\n",
    "from time import time\n",
    "\n",
    "import warnings\n",
    "warnings.filterwarnings('ignore')\n",
    "\n",
    "RANDOM_STATE = 42\n",
    "CROSS_VAL_SPLITS = 5\n",
    "CKP_PREFIX = 'CC_'\n",
    "\n",
    "np.random.seed(RANDOM_STATE)\n",
    "\n",
    "# pandas options\n",
    "pd.set_option('display.max_columns', None)\n",
    "pd.set_option('display.max_rows', None)\n"
   ]
  },
  {
   "cell_type": "markdown",
   "metadata": {},
   "source": [
    "### 1. Prepare data & Partition the data into 80-20 train-test split"
   ]
  },
  {
   "cell_type": "code",
   "execution_count": 29,
   "metadata": {},
   "outputs": [
    {
     "data": {
      "image/png": "[encoded data removed]",
      "text/plain": [
       "<Figure size 640x480 with 1 Axes>"
      ]
     },
     "metadata": {},
     "output_type": "display_data"
    }
   ],
   "source": [
    "# Importing the dataset\n",
    "path_to_data = '../data/creditcard/creditcard.csv'\n",
    "\n",
    "# col names data set\n",
    "col_names = [\n",
    "    \"Time\",\"V1\",\"V2\",\"V3\",\"V4\",\"V5\",\"V6\",\"V7\",\"V8\",\"V9\",\"V10\",\"V11\",\"V12\",\"V13\",\"V14\",\"V15\",\"V16\",\"V17\",\"V18\",\"V19\",\"V20\",\"V21\",\"V22\",\"V23\",\"V24\",\"V25\",\"V26\",\"V27\",\"V28\",\"Amount\",\"label\"\n",
    "] # V1-V28 are PCA transformed features, but are anonymized due to confidentiality reasons and are not interpretable\n",
    "# Label is 1 if fraud, 0 otherwise\n",
    "\n",
    "# read full data set\n",
    "data = pd.read_csv(path_to_data, names=col_names, index_col=0, header=0)\n",
    "\n",
    "# drop duplicates  & time column\n",
    "data.drop_duplicates(inplace=True)\n",
    "data.drop(\"Time\", axis=1, inplace=True)\n",
    "\n",
    "# Split data sets into X, y respectively\n",
    "X = data.drop(\"label\", axis=1)\n",
    "y = data[\"label\"]\n",
    "\n",
    "# Stratified 80-20 train-test split\n",
    "X_train, X_test, y_train, y_test = train_test_split(X, y, test_size=0.2, random_state=RANDOM_STATE, stratify=y)\n",
    "\n",
    "# create label mapping\n",
    "label_mapping = {\"normal\": 0, \"fraud\": 1}\n",
    "normal_label = label_mapping[\"normal\"]\n",
    "fraud_label = label_mapping[\"fraud\"]\n",
    "\n",
    "# Visualize class imbalance\n",
    "plt.bar([\"Normal\", \"Fraud\"], data[\"label\"].value_counts())\n",
    "total = len(data)\n",
    "fraud_percentage = (data[\"label\"].value_counts()[1])\n",
    "normal_percentage = (data[\"label\"].value_counts()[0])\n",
    "\n",
    "plt.text(0, data[\"label\"].value_counts()[0] / 2, f'{normal_percentage}', ha='center', color='black')\n",
    "plt.text(1, data[\"label\"].value_counts()[1] / 2, f'{fraud_percentage}', ha='center', color='white')\n",
    "plt.title(\"Class Distribution\")\n",
    "plt.show()\n",
    "\n",
    "# Define preprocessor\n",
    "preprocessor = ColumnTransformer(\n",
    "    transformers=[\n",
    "        ('num', StandardScaler(), X.columns)\n",
    "    ]\n",
    ")"
   ]
  },
  {
   "cell_type": "markdown",
   "metadata": {},
   "source": [
    "### 2. Define Models and Perform Cross-Validation on the training data"
   ]
  },
  {
   "cell_type": "code",
   "execution_count": 21,
   "metadata": {},
   "outputs": [
    {
     "name": "stdout",
     "output_type": "stream",
     "text": [
      "\n",
      "Fold 1/5\n",
      "Fitting preprocessor...\n",
      "Transforming data...\n",
      "Data transformed.\n",
      "nan values in X_train_fold:  False\n",
      "Fitting VAE model...\n"
     ]
    },
    {
     "name": "stderr",
     "output_type": "stream",
     "text": [
      "Training: 100%|██████████| 10/10 [01:30<00:00,  9.09s/it]\n"
     ]
    },
    {
     "name": "stdout",
     "output_type": "stream",
     "text": [
      "Predicting on validation set...\n",
      "Predictions made.\n",
      "Calculating metrics...\n",
      "\n",
      "Fold 2/5\n",
      "Fitting preprocessor...\n",
      "Transforming data...\n",
      "Data transformed.\n",
      "nan values in X_train_fold:  False\n",
      "Fitting VAE model...\n"
     ]
    },
    {
     "name": "stderr",
     "output_type": "stream",
     "text": [
      "Training: 100%|██████████| 10/10 [01:26<00:00,  8.65s/it]\n"
     ]
    },
    {
     "name": "stdout",
     "output_type": "stream",
     "text": [
      "Predicting on validation set...\n",
      "Predictions made.\n",
      "Calculating metrics...\n",
      "\n",
      "Fold 3/5\n",
      "Fitting preprocessor...\n",
      "Transforming data...\n",
      "Data transformed.\n",
      "nan values in X_train_fold:  False\n",
      "Fitting VAE model...\n"
     ]
    },
    {
     "name": "stderr",
     "output_type": "stream",
     "text": [
      "Training: 100%|██████████| 10/10 [01:27<00:00,  8.78s/it]\n"
     ]
    },
    {
     "name": "stdout",
     "output_type": "stream",
     "text": [
      "Predicting on validation set...\n",
      "Predictions made.\n",
      "Calculating metrics...\n",
      "\n",
      "Fold 4/5\n",
      "Fitting preprocessor...\n",
      "Transforming data...\n",
      "Data transformed.\n",
      "nan values in X_train_fold:  False\n",
      "Fitting VAE model...\n"
     ]
    },
    {
     "name": "stderr",
     "output_type": "stream",
     "text": [
      "Training: 100%|██████████| 10/10 [01:29<00:00,  8.92s/it]\n"
     ]
    },
    {
     "name": "stdout",
     "output_type": "stream",
     "text": [
      "Predicting on validation set...\n",
      "Predictions made.\n",
      "Calculating metrics...\n",
      "\n",
      "Fold 5/5\n",
      "Fitting preprocessor...\n",
      "Transforming data...\n",
      "Data transformed.\n",
      "nan values in X_train_fold:  False\n",
      "Fitting VAE model...\n"
     ]
    },
    {
     "name": "stderr",
     "output_type": "stream",
     "text": [
      "Training: 100%|██████████| 10/10 [01:28<00:00,  8.84s/it]\n"
     ]
    },
    {
     "name": "stdout",
     "output_type": "stream",
     "text": [
      "Predicting on validation set...\n",
      "Predictions made.\n",
      "Calculating metrics...\n",
      "Cross-Validation Results:\n",
      "F1-Score: Mean=0.0298, Std=0.0009\n",
      "Precision: Mean=0.0152, Std=0.0005\n",
      "Recall: Mean=0.9127, Std=0.0330\n"
     ]
    }
   ],
   "source": [
    "# Initialize cross-validation\n",
    "kf = StratifiedKFold(n_splits=CROSS_VAL_SPLITS, shuffle=True, random_state=RANDOM_STATE)\n",
    "\n",
    "f1_scores = []\n",
    "precision_scores = []\n",
    "recall_scores = []\n",
    "\n",
    "# Define hyperparameters\n",
    "EPOCHS = 10\n",
    "BATCH_SIZE = 32\n",
    "\n",
    "# for train_index, val_index in kf.split(X_train, y_train):\n",
    "for (i, (train_index, val_index)) in enumerate(kf.split(X_train, y_train)):\n",
    "    print(f\"\\nFold {i+1}/{CROSS_VAL_SPLITS}\")\n",
    "\n",
    "    X_train_fold = X_train.iloc[train_index].copy()\n",
    "    X_val_fold = X_train.iloc[val_index].copy()\n",
    "    y_val_fold = y_train.iloc[val_index].copy()\n",
    "\n",
    "    print(\"Fitting preprocessor...\")\n",
    "    # Fit preprocessor\n",
    "    preprocessor.fit(X_train_fold)\n",
    "\n",
    "    # transform data\n",
    "    print(\"Transforming data...\")\n",
    "    X_train_fold = preprocessor.transform(X_train_fold)\n",
    "    X_val_fold = preprocessor.transform(X_val_fold)\n",
    "    print(\"Data transformed.\")\n",
    "\n",
    "    # check for nan\n",
    "    print(\"nan values in X_train_fold: \", np.isnan(X_train_fold).any())\n",
    "\n",
    "    print(\"Fitting VAE model...\")\n",
    "    clf = VAE(epoch_num=EPOCHS, batch_size=BATCH_SIZE, dropout_rate=0.2)\n",
    "    clf.fit(X_train_fold)\n",
    "\n",
    "    print(\"Predicting on validation set...\")\n",
    "    # Predict on validation set\n",
    "    y_val_pred = clf.predict(X_val_fold)  # Predicted labels (0: inlier, 1: outlier)\n",
    "    print(\"Predictions made.\")\n",
    "\n",
    "    print('Calculating metrics...')\n",
    "    # Calculate metrics\n",
    "    f1 = f1_score(y_val_fold, y_val_pred)\n",
    "    precision = precision_score(y_val_fold, y_val_pred)\n",
    "    recall = recall_score(y_val_fold, y_val_pred)\n",
    "    \n",
    "    f1_scores.append(f1)\n",
    "    precision_scores.append(precision)\n",
    "    recall_scores.append(recall)\n",
    "\n",
    "# Report mean and standard deviation of metrics\n",
    "print(\"Cross-Validation Results:\")\n",
    "print(f\"F1-Score: Mean={np.mean(f1_scores):.4f}, Std={np.std(f1_scores):.4f}\")\n",
    "print(f\"Precision: Mean={np.mean(precision_scores):.4f}, Std={np.std(precision_scores):.4f}\")\n",
    "print(f\"Recall: Mean={np.mean(recall_scores):.4f}, Std={np.std(recall_scores):.4f}\")"
   ]
  },
  {
   "cell_type": "markdown",
   "metadata": {},
   "source": [
    "### 3. (Re)Train the models on the training data, either vanilla model or with best hyperparameters"
   ]
  },
  {
   "cell_type": "code",
   "execution_count": 38,
   "metadata": {},
   "outputs": [
    {
     "name": "stdout",
     "output_type": "stream",
     "text": [
      "No NaNs in the transformed data.\n"
     ]
    },
    {
     "name": "stderr",
     "output_type": "stream",
     "text": [
      "Training: 100%|██████████| 10/10 [01:54<00:00, 11.41s/it]\n"
     ]
    }
   ],
   "source": [
    "# Fit the preprocessor on the full training data\n",
    "preprocessor.fit(X_train)\n",
    "\n",
    "# Transform the filtered data without re-fitting\n",
    "transformed_sample = preprocessor.transform(X_train)\n",
    "\n",
    "# Check for NaNs\n",
    "if np.isnan(transformed_sample).any():\n",
    "    print(\"NaNs detected in the transformed data.\")\n",
    "else:\n",
    "    print(\"No NaNs in the transformed data.\")\n",
    "\n",
    "# Proceed to fit your model\n",
    "clf = VAE(epoch_num=EPOCHS, batch_size=BATCH_SIZE, dropout_rate=0.2)\n",
    "clf.fit(transformed_sample)"
   ]
  },
  {
   "cell_type": "markdown",
   "metadata": {},
   "source": [
    "### 4. Final evaluation of the models"
   ]
  },
  {
   "cell_type": "code",
   "execution_count": 39,
   "metadata": {},
   "outputs": [
    {
     "name": "stdout",
     "output_type": "stream",
     "text": [
      "Recall: 0.85\n",
      "Precision: 0.01\n",
      "F1: 0.03\n"
     ]
    },
    {
     "data": {
      "text/plain": [
       "<sklearn.metrics._plot.confusion_matrix.ConfusionMatrixDisplay at 0x354adba90>"
      ]
     },
     "execution_count": 39,
     "metadata": {},
     "output_type": "execute_result"
    },
    {
     "data": {
      "image/png": "[encoded data removed]",
      "text/plain": [
       "<Figure size 640x480 with 2 Axes>"
      ]
     },
     "metadata": {},
     "output_type": "display_data"
    }
   ],
   "source": [
    "# predict\n",
    "y_pred = clf.predict(preprocessor.transform(X_test))\n",
    "\n",
    "# Evaluate the model\n",
    "f1 = f1_score(y_test, y_pred)\n",
    "recall = recall_score(y_test, y_pred)\n",
    "precision = precision_score(y_test, y_pred)\n",
    "\n",
    "print(f\"Recall: {recall:.2f}\")\n",
    "print(f\"Precision: {precision:.2f}\")\n",
    "print(f\"F1: {f1:.2f}\")\n",
    "\n",
    "# plot confusion matrix\n",
    "cm = confusion_matrix(y_test, y_pred)\n",
    "disp = ConfusionMatrixDisplay(confusion_matrix=cm, display_labels=[\"Normal\", \"Fraud\"])\n",
    "disp.plot()"
   ]
  }
 ],
 "metadata": {
  "kernelspec": {
   "display_name": "ml",
   "language": "python",
   "name": "python3"
  },
  "language_info": {
   "codemirror_mode": {
    "name": "ipython",
    "version": 3
   },
   "file_extension": ".py",
   "mimetype": "text/x-python",
   "name": "python",
   "nbconvert_exporter": "python",
   "pygments_lexer": "ipython3",
   "version": "3.11.9"
  }
 },
 "nbformat": 4,
 "nbformat_minor": 2
}
