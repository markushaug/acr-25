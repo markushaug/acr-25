{
 "cells": [
  {
   "cell_type": "markdown",
   "metadata": {},
   "source": [
    "### Comparison of `MLP`, `Random-Search Tuned MLP`, `RandOver MLP`, `SPE MLP`"
   ]
  },
  {
   "cell_type": "markdown",
   "metadata": {},
   "source": [
    "## The Method\n",
    "\n",
    "1. Prepare data & Partition the data into 80-20 train-test split\n",
    "2. Define Models & Parameters\n",
    "3. Perform Cross-Validation on the training data\n",
    "3. (Re)Train the models on the training data, either vanilla model or with best hyperparameters\n",
    "4. Evaluate the (re)trained models on the test data\n",
    "5. Final evaluation of the models\n",
    "\n",
    "![The Method](method.png)\n",
    "\n",
    "Source: [scikit-learn.org - Cross-validation](https://scikit-learn.org/1.5/modules/cross_validation.html#cross-validation-and-model-selection)"
   ]
  },
  {
   "cell_type": "code",
   "execution_count": 1,
   "metadata": {},
   "outputs": [],
   "source": [
    "# Import libraries\n",
    "import pandas as pd\n",
    "import numpy as np\n",
    "from pandas import DataFrame as df\n",
    "import matplotlib.pyplot as plt\n",
    "\n",
    "from sklearn.model_selection import train_test_split, RandomizedSearchCV, cross_validate\n",
    "from sklearn.pipeline import Pipeline\n",
    "from imblearn.pipeline import Pipeline as imblearn_pipeline # Use imblearn's pipeline\n",
    "from sklearn.metrics import make_scorer, classification_report, precision_score, recall_score, f1_score\n",
    "from sklearn.model_selection import StratifiedKFold\n",
    "from sklearn.metrics import confusion_matrix, ConfusionMatrixDisplay\n",
    "\n",
    "# Import ML libraries\n",
    "import keras\n",
    "from sklearn.compose import ColumnTransformer\n",
    "from sklearn.preprocessing import OneHotEncoder, LabelEncoder, StandardScaler\n",
    "from imblearn.over_sampling import RandomOverSampler\n",
    "from imbens.ensemble import SelfPacedEnsembleClassifier\n",
    "from scikeras.wrappers import KerasClassifier\n",
    "import keras_tuner\n",
    "from keras import layers\n",
    "\n",
    "from pprint import pprint\n",
    "from time import time\n",
    "import joblib\n",
    "\n",
    "import warnings\n",
    "warnings.filterwarnings('ignore')\n",
    "\n",
    "RANDOM_STATE = 42\n",
    "CROSS_VAL_SPLITS = 5\n",
    "CKP_PREFIX = 'KDD_'\n",
    "\n",
    "np.random.seed(RANDOM_STATE)\n",
    "\n",
    "# pandas options\n",
    "pd.set_option('display.max_columns', None)\n",
    "pd.set_option('display.max_rows', None)\n"
   ]
  },
  {
   "cell_type": "markdown",
   "metadata": {},
   "source": [
    "### 1. Prepare data & Partition the data into 80-20 train-test split"
   ]
  },
  {
   "cell_type": "code",
   "execution_count": 7,
   "metadata": {},
   "outputs": [
    {
     "data": {
      "image/png": "[encoded data removed]",
      "text/plain": [
       "<Figure size 640x480 with 1 Axes>"
      ]
     },
     "metadata": {},
     "output_type": "display_data"
    },
    {
     "name": "stdout",
     "output_type": "stream",
     "text": [
      "Weights:  {0: 4.991290198603437e-06, 1: 2.062961587655238e-05}\n",
      "Transformed X_train shape: (248823, 121)\n"
     ]
    }
   ],
   "source": [
    "# Importing the dataset\n",
    "\n",
    "path_to_data = '../data/kddcup/kddcup_data_corrected.csv'\n",
    "\n",
    "# col names from https://kdd.ics.uci.edu/databases/kddcup99/kddcup.names\n",
    "col_names = [\n",
    "    \"duration\",\n",
    "    \"protocol_type\",\n",
    "    \"service\",\n",
    "    \"flag\",\n",
    "    \"src_bytes\",\n",
    "    \"dst_bytes\",\n",
    "    \"land\",\n",
    "    \"wrong_fragment\",\n",
    "    \"urgent\",\n",
    "    \"hot\",\n",
    "    \"num_failed_logins\",\n",
    "    \"logged_in\",\n",
    "    \"num_compromised\",\n",
    "    \"root_shell\",\n",
    "    \"su_attempted\",\n",
    "    \"num_root\",\n",
    "    \"num_file_creations\",\n",
    "    \"num_shells\",\n",
    "    \"num_access_files\",\n",
    "    \"num_outbound_cmds\",\n",
    "    \"is_host_login\",\n",
    "    \"is_guest_login\",\n",
    "    \"count\",\n",
    "    \"srv_count\",\n",
    "    \"serror_rate\",\n",
    "    \"srv_serror_rate\",\n",
    "    \"rerror_rate\",\n",
    "    \"srv_rerror_rate\",\n",
    "    \"same_srv_rate\",\n",
    "    \"diff_srv_rate\",\n",
    "    \"srv_diff_host_rate\",\n",
    "    \"dst_host_count\",\n",
    "    \"dst_host_srv_count\",\n",
    "    \"dst_host_same_srv_rate\",\n",
    "    \"dst_host_diff_srv_rate\",\n",
    "    \"dst_host_same_src_port_rate\",\n",
    "    \"dst_host_srv_diff_host_rate\",\n",
    "    \"dst_host_serror_rate\",\n",
    "    \"dst_host_srv_serror_rate\",\n",
    "    \"dst_host_rerror_rate\",\n",
    "    \"dst_host_srv_rerror_rate\",\n",
    "    \"label\",\n",
    "]\n",
    "# from https://kdd.ics.uci.edu/databases/kddcup99/kddcup.names\n",
    "categorical_cols = [\n",
    "    \"protocol_type\",\n",
    "    \"service\",\n",
    "    \"flag\",\n",
    "    \"land\",\n",
    "    \"logged_in\",\n",
    "    \"is_host_login\",\n",
    "    \"is_guest_login\",\n",
    "]\n",
    "\n",
    "# Read data (10 % subset of the original dataset)\n",
    "data = pd.read_csv(path_to_data, names=col_names, header=None)\n",
    "\n",
    "# summarize attack types as \"attack\" for binary classification\n",
    "data[\"label\"] = data[\"label\"].apply(lambda x: \"attack\" if x != \"normal.\" else 'normal')\n",
    "\n",
    "# Split data sets into X, y respectively\n",
    "X = data.drop(\"label\", axis=1)\n",
    "y = data[\"label\"]\n",
    "\n",
    "# Visualize class imbalance\n",
    "plt.bar([\"Attack\", \"Normal\"], data[\"label\"].value_counts())\n",
    "total = len(data)\n",
    "fraud_percentage = (data[\"label\"].value_counts()[1] / total) * 100\n",
    "normal_percentage = (data[\"label\"].value_counts()[0] / total) * 100\n",
    "\n",
    "plt.text(0, data[\"label\"].value_counts()[0] / 2, f'{normal_percentage:.2f}%', ha='center', color='black')\n",
    "plt.text(1, data[\"label\"].value_counts()[1] / 2, f'{fraud_percentage:.2f}%', ha='center', color='black')\n",
    "plt.title(\"Class Distribution\")\n",
    "plt.show()\n",
    "\n",
    "# Encode labels (LabelEncoder is not part of the pipeline but applied directly to y)\n",
    "le = LabelEncoder()\n",
    "y = le.fit_transform(y)\n",
    "\n",
    "# create training and test partitions with 80-20 split\n",
    "X_train, X_test, y_train, y_test = train_test_split(X, y, test_size=0.2, random_state=RANDOM_STATE, stratify=y)\n",
    "\n",
    "# Fit OneHotEncoder to learn categories from the training data. This is necessary to ensure that the same categories are used for random splits during cross-validation\n",
    "one_hot_encoder = OneHotEncoder(handle_unknown='ignore', sparse_output=False, dtype=\"int8\")\n",
    "one_hot_encoder.fit(X_train[categorical_cols])\n",
    "learned_categories = one_hot_encoder.categories_\n",
    "\n",
    "# Define numerical columns\n",
    "num_cols = data.drop(categorical_cols, axis=1)\n",
    "\n",
    "# Preprocessing pipeline for categorical and numerical data with fixed categories\n",
    "preprocessor = ColumnTransformer(\n",
    "    transformers=[\n",
    "        ('num', StandardScaler(), num_cols.drop('label', axis=1).columns),\n",
    "        ('cat', OneHotEncoder(handle_unknown='ignore', sparse_output=False, categories=learned_categories, dtype=\"int8\"), categorical_cols)\n",
    "    ]\n",
    ")\n",
    "\n",
    "# Set class weights\n",
    "class_weight = {label[0]: 1.0 / count for label, count in df(y_train).value_counts().items()}\n",
    "print(\"Weights: \", class_weight)\n",
    "\n",
    "# Check preprocessing pipeline and get target shape\n",
    "transformed_sample = preprocessor.fit_transform(X_train)\n",
    "print(f\"Transformed X_train shape: {transformed_sample.shape}\")"
   ]
  },
  {
   "cell_type": "markdown",
   "metadata": {},
   "source": [
    "### 2. Define models and parameters"
   ]
  },
  {
   "cell_type": "code",
   "execution_count": 8,
   "metadata": {},
   "outputs": [],
   "source": [
    "## Credits for model architecture: https://keras.io/examples/structured_data/imbalanced_classification/\n",
    "## Try same model architecture on this dataset for comparison\n",
    "def _mlp(name=\"mlp\"):\n",
    "    # Hyperparameters\n",
    "    data_dim = transformed_sample.shape[1] # Number of features after preprocessing pipeline step\n",
    "    batch_size = 2048\n",
    "    epochs = 50\n",
    "    learning_rate = 1e-2\n",
    "    Adam = keras.optimizers.Adam(learning_rate)\n",
    "\n",
    "    # Define model\n",
    "    model = keras.Sequential(\n",
    "        [\n",
    "            keras.Input(shape=(data_dim,)),\n",
    "            keras.layers.Dense(256, activation=\"relu\"),\n",
    "            keras.layers.Dense(256, activation=\"relu\"),\n",
    "            keras.layers.Dropout(0.3),\n",
    "            keras.layers.Dense(256, activation=\"relu\"),\n",
    "            keras.layers.Dropout(0.3),\n",
    "            keras.layers.Dense(1, activation=\"sigmoid\"),\n",
    "        ]\n",
    "    )\n",
    "\n",
    "    # Define metrics\n",
    "    metrics = [\n",
    "        keras.metrics.F1Score(name=\"f1\"),\n",
    "        keras.metrics.Precision(name=\"precision\"),\n",
    "        keras.metrics.Recall(name=\"recall\"),\n",
    "    ]\n",
    "\n",
    "    callbacks = [\n",
    "        keras.callbacks.ModelCheckpoint(\n",
    "            f\"./ckp/{CKP_PREFIX}{name}/epoch_\" + \"{epoch}\" + \".keras\"\n",
    "        )\n",
    "    ]\n",
    "\n",
    "    return KerasClassifier(\n",
    "        model,\n",
    "        epochs=epochs,\n",
    "        batch_size=batch_size,\n",
    "        verbose=0,\n",
    "        loss=\"binary_crossentropy\",\n",
    "        callbacks=callbacks,\n",
    "        metrics=metrics,\n",
    "        optimizer=Adam,\n",
    "        class_weight=class_weight,\n",
    "        random_state=RANDOM_STATE,\n",
    "    )\n",
    "\n",
    "\n",
    "# Model for RandomSearchCV\n",
    "def _random_search_mlp(\n",
    "    input_units=256,\n",
    "    input_activation=\"relu\",\n",
    "    dropout_input=False,\n",
    "    dropout_input_rate=0.3,\n",
    "    h1=False,\n",
    "    h1_units=128,\n",
    "    h1_activation=\"relu\",\n",
    "    dropout_h1=False,\n",
    "    dropout_h1_rate=0.3,\n",
    "    h2=False,\n",
    "    h2_units=64,\n",
    "    h2_activation=\"relu\",\n",
    "    dropout_h2=False,\n",
    "    dropout_h2_rate=0.3,\n",
    "    learning_rate=1e-2,\n",
    "    name=\"rs_mlp\",\n",
    "    batch_size=2048,\n",
    "    epochs=50,\n",
    "):\n",
    "    # print(f\"Building model: {name}\")\n",
    "    # print('current params:', input_units, input_activation, dropout_input, dropout_input_rate, h1, h1_units, h1_activation, dropout_h1, dropout_h1_rate, h2, h2_units, h2_activation, dropout_h2, dropout_h2_rate, learning_rate, name, batch_size, epochs)\n",
    "    data_dim = transformed_sample.shape[1] # Number of features after preprocessing pipeline step\n",
    "    print(f\"Input data shape for model: {data_dim}\")\n",
    "\n",
    "    model = keras.Sequential()\n",
    "    model.add(layers.Input(shape=(data_dim,), name=\"input\"))\n",
    "    model.add(\n",
    "        layers.Dense(input_units, activation=input_activation, name=\"input_layer\")\n",
    "    )\n",
    "\n",
    "    if dropout_input:\n",
    "        model.add(layers.Dropout(dropout_input_rate))\n",
    "\n",
    "    if h1:\n",
    "        model.add(layers.Dense(h1_units, activation=h1_activation, name=\"h1\"))\n",
    "        if dropout_h1:\n",
    "            model.add(layers.Dropout(dropout_h1_rate))\n",
    "\n",
    "    if h2:\n",
    "        model.add(layers.Dense(h2_units, activation=h2_activation, name=\"h2\"))\n",
    "        if dropout_h2:\n",
    "            model.add(layers.Dropout(dropout_h2_rate))\n",
    "\n",
    "    model.add(layers.Dense(1, activation=\"sigmoid\", name=\"output\"))\n",
    "\n",
    "    model.compile(\n",
    "        optimizer=keras.optimizers.Adam(learning_rate=learning_rate),\n",
    "        loss=\"binary_crossentropy\",\n",
    "        metrics=[\n",
    "            keras.metrics.F1Score(name=\"f1\"),\n",
    "            keras.metrics.Precision(name=\"precision\"),\n",
    "            keras.metrics.Recall(name=\"recall\"),\n",
    "        ],\n",
    "    )\n",
    "    return model\n",
    "\n",
    "\n",
    "# KerasClassifier with create_model as build_fn\n",
    "random_serach_keras_clf = KerasClassifier(\n",
    "    build_fn=_random_search_mlp,\n",
    "    verbose=0,\n",
    "    random_state=RANDOM_STATE,\n",
    "    input_units=256,\n",
    "    optimizer=keras.optimizers.Adam(learning_rate=1e-2),\n",
    "    loss=\"binary_crossentropy\",\n",
    "    input_activation=\"relu\",\n",
    "    dropout_input=False,\n",
    "    dropout_input_rate=0.3,\n",
    "    h1=False,\n",
    "    h1_units=128,\n",
    "    h1_activation=\"relu\",\n",
    "    dropout_h1=False,\n",
    "    dropout_h1_rate=0.3,\n",
    "    h2=False,\n",
    "    h2_units=64,\n",
    "    h2_activation=\"relu\",\n",
    "    dropout_h2=False,\n",
    "    dropout_h2_rate=0.3,\n",
    "    learning_rate=1e-2,\n",
    "    name=\"rs_mlp\",\n",
    "    batch_size=2048,\n",
    "    epochs=50,\n",
    "    class_weight=class_weight,\n",
    ")\n",
    "\n",
    "# Define pipelines\n",
    "mlp_normal_pipeline = Pipeline(\n",
    "    [\n",
    "        ('preprocessor', preprocessor),\n",
    "        (\"mlp\", _mlp()),\n",
    "    ]\n",
    ")\n",
    "\n",
    "# Define randomsearch pipeline\n",
    "mlp_rs_pipeline = Pipeline(\n",
    "    [\n",
    "        ('preprocessor', preprocessor),\n",
    "        (\"rs_tuned_mlp\", random_serach_keras_clf),\n",
    "    ]\n",
    ")\n",
    "\n",
    "# Define multimetric scoring\n",
    "scoring = {\n",
    "    \"f1\": make_scorer(f1_score),\n",
    "    \"precision\": make_scorer(precision_score),\n",
    "    \"recall\": make_scorer(recall_score),\n",
    "}\n",
    "\n",
    "# Define parameter grid\n",
    "parameter_grid = {\n",
    "    \"rs_tuned_mlp__input_units\": [64, 128, 256],\n",
    "    \"rs_tuned_mlp__input_activation\": [\"relu\", \"tanh\"],\n",
    "    \"rs_tuned_mlp__dropout_input\": [True, False],\n",
    "    \"rs_tuned_mlp__dropout_input_rate\": [0.1, 0.3, 0.5],\n",
    "    \"rs_tuned_mlp__h1\": [True, False],\n",
    "    \"rs_tuned_mlp__h1_units\": [64, 128, 256],\n",
    "    \"rs_tuned_mlp__h1_activation\": [\"relu\", \"tanh\"],\n",
    "    \"rs_tuned_mlp__dropout_h1\": [True, False],\n",
    "    \"rs_tuned_mlp__dropout_h1_rate\": [0.1, 0.3, 0.5],\n",
    "    \"rs_tuned_mlp__h2\": [True, False],\n",
    "    \"rs_tuned_mlp__h2_units\": [64, 128, 256],\n",
    "    \"rs_tuned_mlp__h2_activation\": [\"relu\", \"tanh\"],\n",
    "    \"rs_tuned_mlp__dropout_h2\": [True, False],\n",
    "    \"rs_tuned_mlp__dropout_h2_rate\": [0.1, 0.3, 0.5],\n",
    "    \"rs_tuned_mlp__learning_rate\": [1e-2, 0.01, 0.02, 0.03],\n",
    "}\n",
    "\n",
    "# Randomized search with k-fold cross-validation\n",
    "random_search = RandomizedSearchCV(\n",
    "    estimator=mlp_rs_pipeline,\n",
    "    param_distributions=parameter_grid,\n",
    "    n_iter=10,  # Define the number of random samples to try\n",
    "    scoring=scoring,\n",
    "    refit=\"f1\",  # Refit on F1 score after finding the best parameters\n",
    "    cv=StratifiedKFold(n_splits=5),  # 5-fold cross-validation\n",
    "    verbose=1,\n",
    "    n_jobs=-1,\n",
    "    random_state=RANDOM_STATE,\n",
    "    error_score='raise',\n",
    ")"
   ]
  },
  {
   "cell_type": "markdown",
   "metadata": {},
   "source": [
    "### 3. Perform Cross-Validation on the training data"
   ]
  },
  {
   "cell_type": "code",
   "execution_count": 9,
   "metadata": {},
   "outputs": [
    {
     "name": "stdout",
     "output_type": "stream",
     "text": [
      "\n",
      "Running RandomizedSearchCV for MLP...\n",
      "Hyperparameters to be evaluated:\n",
      "\n",
      "{'rs_tuned_mlp__dropout_h1': [True, False],\n",
      " 'rs_tuned_mlp__dropout_h1_rate': [0.1, 0.3, 0.5],\n",
      " 'rs_tuned_mlp__dropout_h2': [True, False],\n",
      " 'rs_tuned_mlp__dropout_h2_rate': [0.1, 0.3, 0.5],\n",
      " 'rs_tuned_mlp__dropout_input': [True, False],\n",
      " 'rs_tuned_mlp__dropout_input_rate': [0.1, 0.3, 0.5],\n",
      " 'rs_tuned_mlp__h1': [True, False],\n",
      " 'rs_tuned_mlp__h1_activation': ['relu', 'tanh'],\n",
      " 'rs_tuned_mlp__h1_units': [64, 128, 256],\n",
      " 'rs_tuned_mlp__h2': [True, False],\n",
      " 'rs_tuned_mlp__h2_activation': ['relu', 'tanh'],\n",
      " 'rs_tuned_mlp__h2_units': [64, 128, 256],\n",
      " 'rs_tuned_mlp__input_activation': ['relu', 'tanh'],\n",
      " 'rs_tuned_mlp__input_units': [64, 128, 256],\n",
      " 'rs_tuned_mlp__learning_rate': [0.01, 0.01, 0.02, 0.03]}\n",
      "Fitting 5 folds for each of 10 candidates, totalling 50 fits\n",
      "Input data shape for model: 121\n",
      "Input data shape for model: 121\n",
      "Input data shape for model: 121\n",
      "Input data shape for model: 121\n",
      "Input data shape for model: 121\n",
      "Input data shape for model: 121\n",
      "Input data shape for model: 121\n",
      "Input data shape for model: 121\n",
      "Input data shape for model: 121\n",
      "Input data shape for model: 121\n"
     ]
    },
    {
     "name": "stderr",
     "output_type": "stream",
     "text": [
      "/Users/i535223/devspace/venvs/ml/lib/python3.11/site-packages/scikeras/wrappers.py:925: UserWarning: ``build_fn`` will be renamed to ``model`` in a future release, at which point use of ``build_fn`` will raise an Error instead.\n",
      "  X, y = self._initialize(X, y)\n",
      "/Users/i535223/devspace/venvs/ml/lib/python3.11/site-packages/scikeras/wrappers.py:925: UserWarning: ``build_fn`` will be renamed to ``model`` in a future release, at which point use of ``build_fn`` will raise an Error instead.\n",
      "  X, y = self._initialize(X, y)\n",
      "/Users/i535223/devspace/venvs/ml/lib/python3.11/site-packages/scikeras/wrappers.py:925: UserWarning: ``build_fn`` will be renamed to ``model`` in a future release, at which point use of ``build_fn`` will raise an Error instead.\n",
      "  X, y = self._initialize(X, y)\n",
      "/Users/i535223/devspace/venvs/ml/lib/python3.11/site-packages/scikeras/wrappers.py:925: UserWarning: ``build_fn`` will be renamed to ``model`` in a future release, at which point use of ``build_fn`` will raise an Error instead.\n",
      "  X, y = self._initialize(X, y)\n",
      "/Users/i535223/devspace/venvs/ml/lib/python3.11/site-packages/scikeras/wrappers.py:925: UserWarning: ``build_fn`` will be renamed to ``model`` in a future release, at which point use of ``build_fn`` will raise an Error instead.\n",
      "  X, y = self._initialize(X, y)\n",
      "/Users/i535223/devspace/venvs/ml/lib/python3.11/site-packages/scikeras/wrappers.py:925: UserWarning: ``build_fn`` will be renamed to ``model`` in a future release, at which point use of ``build_fn`` will raise an Error instead.\n",
      "  X, y = self._initialize(X, y)\n",
      "/Users/i535223/devspace/venvs/ml/lib/python3.11/site-packages/scikeras/wrappers.py:925: UserWarning: ``build_fn`` will be renamed to ``model`` in a future release, at which point use of ``build_fn`` will raise an Error instead.\n",
      "  X, y = self._initialize(X, y)\n",
      "/Users/i535223/devspace/venvs/ml/lib/python3.11/site-packages/scikeras/wrappers.py:925: UserWarning: ``build_fn`` will be renamed to ``model`` in a future release, at which point use of ``build_fn`` will raise an Error instead.\n",
      "  X, y = self._initialize(X, y)\n",
      "/Users/i535223/devspace/venvs/ml/lib/python3.11/site-packages/scikeras/wrappers.py:925: UserWarning: ``build_fn`` will be renamed to ``model`` in a future release, at which point use of ``build_fn`` will raise an Error instead.\n",
      "  X, y = self._initialize(X, y)\n",
      "/Users/i535223/devspace/venvs/ml/lib/python3.11/site-packages/scikeras/wrappers.py:925: UserWarning: ``build_fn`` will be renamed to ``model`` in a future release, at which point use of ``build_fn`` will raise an Error instead.\n",
      "  X, y = self._initialize(X, y)\n",
      "/Users/i535223/devspace/venvs/ml/lib/python3.11/site-packages/scikeras/wrappers.py:925: UserWarning: ``build_fn`` will be renamed to ``model`` in a future release, at which point use of ``build_fn`` will raise an Error instead.\n",
      "  X, y = self._initialize(X, y)\n"
     ]
    },
    {
     "name": "stdout",
     "output_type": "stream",
     "text": [
      "Input data shape for model: 121\n"
     ]
    },
    {
     "name": "stderr",
     "output_type": "stream",
     "text": [
      "/Users/i535223/devspace/venvs/ml/lib/python3.11/site-packages/scikeras/wrappers.py:925: UserWarning: ``build_fn`` will be renamed to ``model`` in a future release, at which point use of ``build_fn`` will raise an Error instead.\n",
      "  X, y = self._initialize(X, y)\n"
     ]
    },
    {
     "name": "stdout",
     "output_type": "stream",
     "text": [
      "Input data shape for model: 121\n"
     ]
    },
    {
     "name": "stderr",
     "output_type": "stream",
     "text": [
      "/Users/i535223/devspace/venvs/ml/lib/python3.11/site-packages/scikeras/wrappers.py:925: UserWarning: ``build_fn`` will be renamed to ``model`` in a future release, at which point use of ``build_fn`` will raise an Error instead.\n",
      "  X, y = self._initialize(X, y)\n"
     ]
    },
    {
     "name": "stdout",
     "output_type": "stream",
     "text": [
      "Input data shape for model: 121\n"
     ]
    },
    {
     "name": "stderr",
     "output_type": "stream",
     "text": [
      "/Users/i535223/devspace/venvs/ml/lib/python3.11/site-packages/scikeras/wrappers.py:925: UserWarning: ``build_fn`` will be renamed to ``model`` in a future release, at which point use of ``build_fn`` will raise an Error instead.\n",
      "  X, y = self._initialize(X, y)\n"
     ]
    },
    {
     "name": "stdout",
     "output_type": "stream",
     "text": [
      "Input data shape for model: 121\n"
     ]
    },
    {
     "name": "stderr",
     "output_type": "stream",
     "text": [
      "/Users/i535223/devspace/venvs/ml/lib/python3.11/site-packages/scikeras/wrappers.py:925: UserWarning: ``build_fn`` will be renamed to ``model`` in a future release, at which point use of ``build_fn`` will raise an Error instead.\n",
      "  X, y = self._initialize(X, y)\n"
     ]
    },
    {
     "name": "stdout",
     "output_type": "stream",
     "text": [
      "Input data shape for model: 121\n"
     ]
    },
    {
     "name": "stderr",
     "output_type": "stream",
     "text": [
      "/Users/i535223/devspace/venvs/ml/lib/python3.11/site-packages/scikeras/wrappers.py:925: UserWarning: ``build_fn`` will be renamed to ``model`` in a future release, at which point use of ``build_fn`` will raise an Error instead.\n",
      "  X, y = self._initialize(X, y)\n"
     ]
    },
    {
     "name": "stdout",
     "output_type": "stream",
     "text": [
      "Input data shape for model: 121\n"
     ]
    },
    {
     "name": "stderr",
     "output_type": "stream",
     "text": [
      "/Users/i535223/devspace/venvs/ml/lib/python3.11/site-packages/scikeras/wrappers.py:925: UserWarning: ``build_fn`` will be renamed to ``model`` in a future release, at which point use of ``build_fn`` will raise an Error instead.\n",
      "  X, y = self._initialize(X, y)\n"
     ]
    },
    {
     "name": "stdout",
     "output_type": "stream",
     "text": [
      "Input data shape for model: 121\n"
     ]
    },
    {
     "name": "stderr",
     "output_type": "stream",
     "text": [
      "/Users/i535223/devspace/venvs/ml/lib/python3.11/site-packages/scikeras/wrappers.py:925: UserWarning: ``build_fn`` will be renamed to ``model`` in a future release, at which point use of ``build_fn`` will raise an Error instead.\n",
      "  X, y = self._initialize(X, y)\n"
     ]
    },
    {
     "name": "stdout",
     "output_type": "stream",
     "text": [
      "Input data shape for model: 121\n"
     ]
    },
    {
     "name": "stderr",
     "output_type": "stream",
     "text": [
      "/Users/i535223/devspace/venvs/ml/lib/python3.11/site-packages/scikeras/wrappers.py:925: UserWarning: ``build_fn`` will be renamed to ``model`` in a future release, at which point use of ``build_fn`` will raise an Error instead.\n",
      "  X, y = self._initialize(X, y)\n"
     ]
    },
    {
     "name": "stdout",
     "output_type": "stream",
     "text": [
      "Input data shape for model: 121\n"
     ]
    },
    {
     "name": "stderr",
     "output_type": "stream",
     "text": [
      "/Users/i535223/devspace/venvs/ml/lib/python3.11/site-packages/scikeras/wrappers.py:925: UserWarning: ``build_fn`` will be renamed to ``model`` in a future release, at which point use of ``build_fn`` will raise an Error instead.\n",
      "  X, y = self._initialize(X, y)\n"
     ]
    },
    {
     "name": "stdout",
     "output_type": "stream",
     "text": [
      "Input data shape for model: 121\n"
     ]
    },
    {
     "name": "stderr",
     "output_type": "stream",
     "text": [
      "/Users/i535223/devspace/venvs/ml/lib/python3.11/site-packages/scikeras/wrappers.py:925: UserWarning: ``build_fn`` will be renamed to ``model`` in a future release, at which point use of ``build_fn`` will raise an Error instead.\n",
      "  X, y = self._initialize(X, y)\n"
     ]
    },
    {
     "name": "stdout",
     "output_type": "stream",
     "text": [
      "Input data shape for model: 121\n"
     ]
    },
    {
     "name": "stderr",
     "output_type": "stream",
     "text": [
      "/Users/i535223/devspace/venvs/ml/lib/python3.11/site-packages/scikeras/wrappers.py:925: UserWarning: ``build_fn`` will be renamed to ``model`` in a future release, at which point use of ``build_fn`` will raise an Error instead.\n",
      "  X, y = self._initialize(X, y)\n"
     ]
    },
    {
     "name": "stdout",
     "output_type": "stream",
     "text": [
      "Input data shape for model: 121\n",
      "Input data shape for model: 121\n"
     ]
    },
    {
     "name": "stderr",
     "output_type": "stream",
     "text": [
      "/Users/i535223/devspace/venvs/ml/lib/python3.11/site-packages/scikeras/wrappers.py:925: UserWarning: ``build_fn`` will be renamed to ``model`` in a future release, at which point use of ``build_fn`` will raise an Error instead.\n",
      "  X, y = self._initialize(X, y)\n",
      "/Users/i535223/devspace/venvs/ml/lib/python3.11/site-packages/scikeras/wrappers.py:925: UserWarning: ``build_fn`` will be renamed to ``model`` in a future release, at which point use of ``build_fn`` will raise an Error instead.\n",
      "  X, y = self._initialize(X, y)\n"
     ]
    },
    {
     "name": "stdout",
     "output_type": "stream",
     "text": [
      "Input data shape for model: 121\n"
     ]
    },
    {
     "name": "stderr",
     "output_type": "stream",
     "text": [
      "/Users/i535223/devspace/venvs/ml/lib/python3.11/site-packages/scikeras/wrappers.py:925: UserWarning: ``build_fn`` will be renamed to ``model`` in a future release, at which point use of ``build_fn`` will raise an Error instead.\n",
      "  X, y = self._initialize(X, y)\n"
     ]
    },
    {
     "name": "stdout",
     "output_type": "stream",
     "text": [
      "Input data shape for model: 121\n"
     ]
    },
    {
     "name": "stderr",
     "output_type": "stream",
     "text": [
      "/Users/i535223/devspace/venvs/ml/lib/python3.11/site-packages/scikeras/wrappers.py:925: UserWarning: ``build_fn`` will be renamed to ``model`` in a future release, at which point use of ``build_fn`` will raise an Error instead.\n",
      "  X, y = self._initialize(X, y)\n"
     ]
    },
    {
     "name": "stdout",
     "output_type": "stream",
     "text": [
      "Input data shape for model: 121\n"
     ]
    },
    {
     "name": "stderr",
     "output_type": "stream",
     "text": [
      "/Users/i535223/devspace/venvs/ml/lib/python3.11/site-packages/scikeras/wrappers.py:925: UserWarning: ``build_fn`` will be renamed to ``model`` in a future release, at which point use of ``build_fn`` will raise an Error instead.\n",
      "  X, y = self._initialize(X, y)\n"
     ]
    },
    {
     "name": "stdout",
     "output_type": "stream",
     "text": [
      "Input data shape for model: 121\n"
     ]
    },
    {
     "name": "stderr",
     "output_type": "stream",
     "text": [
      "/Users/i535223/devspace/venvs/ml/lib/python3.11/site-packages/scikeras/wrappers.py:925: UserWarning: ``build_fn`` will be renamed to ``model`` in a future release, at which point use of ``build_fn`` will raise an Error instead.\n",
      "  X, y = self._initialize(X, y)\n"
     ]
    },
    {
     "name": "stdout",
     "output_type": "stream",
     "text": [
      "Input data shape for model: 121\n"
     ]
    },
    {
     "name": "stderr",
     "output_type": "stream",
     "text": [
      "/Users/i535223/devspace/venvs/ml/lib/python3.11/site-packages/scikeras/wrappers.py:925: UserWarning: ``build_fn`` will be renamed to ``model`` in a future release, at which point use of ``build_fn`` will raise an Error instead.\n",
      "  X, y = self._initialize(X, y)\n"
     ]
    },
    {
     "name": "stdout",
     "output_type": "stream",
     "text": [
      "Input data shape for model: 121\n"
     ]
    },
    {
     "name": "stderr",
     "output_type": "stream",
     "text": [
      "/Users/i535223/devspace/venvs/ml/lib/python3.11/site-packages/scikeras/wrappers.py:925: UserWarning: ``build_fn`` will be renamed to ``model`` in a future release, at which point use of ``build_fn`` will raise an Error instead.\n",
      "  X, y = self._initialize(X, y)\n"
     ]
    },
    {
     "name": "stdout",
     "output_type": "stream",
     "text": [
      "Input data shape for model: 121\n"
     ]
    },
    {
     "name": "stderr",
     "output_type": "stream",
     "text": [
      "/Users/i535223/devspace/venvs/ml/lib/python3.11/site-packages/scikeras/wrappers.py:925: UserWarning: ``build_fn`` will be renamed to ``model`` in a future release, at which point use of ``build_fn`` will raise an Error instead.\n",
      "  X, y = self._initialize(X, y)\n"
     ]
    },
    {
     "name": "stdout",
     "output_type": "stream",
     "text": [
      "Input data shape for model: 121\n"
     ]
    },
    {
     "name": "stderr",
     "output_type": "stream",
     "text": [
      "/Users/i535223/devspace/venvs/ml/lib/python3.11/site-packages/scikeras/wrappers.py:925: UserWarning: ``build_fn`` will be renamed to ``model`` in a future release, at which point use of ``build_fn`` will raise an Error instead.\n",
      "  X, y = self._initialize(X, y)\n"
     ]
    },
    {
     "name": "stdout",
     "output_type": "stream",
     "text": [
      "Input data shape for model: 121\n"
     ]
    },
    {
     "name": "stderr",
     "output_type": "stream",
     "text": [
      "/Users/i535223/devspace/venvs/ml/lib/python3.11/site-packages/scikeras/wrappers.py:925: UserWarning: ``build_fn`` will be renamed to ``model`` in a future release, at which point use of ``build_fn`` will raise an Error instead.\n",
      "  X, y = self._initialize(X, y)\n"
     ]
    },
    {
     "name": "stdout",
     "output_type": "stream",
     "text": [
      "Input data shape for model: 121\n"
     ]
    },
    {
     "name": "stderr",
     "output_type": "stream",
     "text": [
      "/Users/i535223/devspace/venvs/ml/lib/python3.11/site-packages/scikeras/wrappers.py:925: UserWarning: ``build_fn`` will be renamed to ``model`` in a future release, at which point use of ``build_fn`` will raise an Error instead.\n",
      "  X, y = self._initialize(X, y)\n"
     ]
    },
    {
     "name": "stdout",
     "output_type": "stream",
     "text": [
      "Input data shape for model: 121\n"
     ]
    },
    {
     "name": "stderr",
     "output_type": "stream",
     "text": [
      "/Users/i535223/devspace/venvs/ml/lib/python3.11/site-packages/scikeras/wrappers.py:925: UserWarning: ``build_fn`` will be renamed to ``model`` in a future release, at which point use of ``build_fn`` will raise an Error instead.\n",
      "  X, y = self._initialize(X, y)\n"
     ]
    },
    {
     "name": "stdout",
     "output_type": "stream",
     "text": [
      "Input data shape for model: 121\n"
     ]
    },
    {
     "name": "stderr",
     "output_type": "stream",
     "text": [
      "/Users/i535223/devspace/venvs/ml/lib/python3.11/site-packages/scikeras/wrappers.py:925: UserWarning: ``build_fn`` will be renamed to ``model`` in a future release, at which point use of ``build_fn`` will raise an Error instead.\n",
      "  X, y = self._initialize(X, y)\n"
     ]
    },
    {
     "name": "stdout",
     "output_type": "stream",
     "text": [
      "Input data shape for model: 121\n"
     ]
    },
    {
     "name": "stderr",
     "output_type": "stream",
     "text": [
      "/Users/i535223/devspace/venvs/ml/lib/python3.11/site-packages/scikeras/wrappers.py:925: UserWarning: ``build_fn`` will be renamed to ``model`` in a future release, at which point use of ``build_fn`` will raise an Error instead.\n",
      "  X, y = self._initialize(X, y)\n"
     ]
    },
    {
     "name": "stdout",
     "output_type": "stream",
     "text": [
      "Input data shape for model: 121\n"
     ]
    },
    {
     "name": "stderr",
     "output_type": "stream",
     "text": [
      "/Users/i535223/devspace/venvs/ml/lib/python3.11/site-packages/scikeras/wrappers.py:925: UserWarning: ``build_fn`` will be renamed to ``model`` in a future release, at which point use of ``build_fn`` will raise an Error instead.\n",
      "  X, y = self._initialize(X, y)\n"
     ]
    },
    {
     "name": "stdout",
     "output_type": "stream",
     "text": [
      "Input data shape for model: 121\n"
     ]
    },
    {
     "name": "stderr",
     "output_type": "stream",
     "text": [
      "/Users/i535223/devspace/venvs/ml/lib/python3.11/site-packages/scikeras/wrappers.py:925: UserWarning: ``build_fn`` will be renamed to ``model`` in a future release, at which point use of ``build_fn`` will raise an Error instead.\n",
      "  X, y = self._initialize(X, y)\n"
     ]
    },
    {
     "name": "stdout",
     "output_type": "stream",
     "text": [
      "Input data shape for model: 121\n"
     ]
    },
    {
     "name": "stderr",
     "output_type": "stream",
     "text": [
      "/Users/i535223/devspace/venvs/ml/lib/python3.11/site-packages/scikeras/wrappers.py:925: UserWarning: ``build_fn`` will be renamed to ``model`` in a future release, at which point use of ``build_fn`` will raise an Error instead.\n",
      "  X, y = self._initialize(X, y)\n"
     ]
    },
    {
     "name": "stdout",
     "output_type": "stream",
     "text": [
      "Input data shape for model: 121\n"
     ]
    },
    {
     "name": "stderr",
     "output_type": "stream",
     "text": [
      "/Users/i535223/devspace/venvs/ml/lib/python3.11/site-packages/scikeras/wrappers.py:925: UserWarning: ``build_fn`` will be renamed to ``model`` in a future release, at which point use of ``build_fn`` will raise an Error instead.\n",
      "  X, y = self._initialize(X, y)\n"
     ]
    },
    {
     "name": "stdout",
     "output_type": "stream",
     "text": [
      "Input data shape for model: 121\n"
     ]
    },
    {
     "name": "stderr",
     "output_type": "stream",
     "text": [
      "/Users/i535223/devspace/venvs/ml/lib/python3.11/site-packages/scikeras/wrappers.py:925: UserWarning: ``build_fn`` will be renamed to ``model`` in a future release, at which point use of ``build_fn`` will raise an Error instead.\n",
      "  X, y = self._initialize(X, y)\n"
     ]
    },
    {
     "name": "stdout",
     "output_type": "stream",
     "text": [
      "Input data shape for model: 121\n"
     ]
    },
    {
     "name": "stderr",
     "output_type": "stream",
     "text": [
      "/Users/i535223/devspace/venvs/ml/lib/python3.11/site-packages/scikeras/wrappers.py:925: UserWarning: ``build_fn`` will be renamed to ``model`` in a future release, at which point use of ``build_fn`` will raise an Error instead.\n",
      "  X, y = self._initialize(X, y)\n"
     ]
    },
    {
     "name": "stdout",
     "output_type": "stream",
     "text": [
      "Input data shape for model: 121\n"
     ]
    },
    {
     "name": "stderr",
     "output_type": "stream",
     "text": [
      "/Users/i535223/devspace/venvs/ml/lib/python3.11/site-packages/scikeras/wrappers.py:925: UserWarning: ``build_fn`` will be renamed to ``model`` in a future release, at which point use of ``build_fn`` will raise an Error instead.\n",
      "  X, y = self._initialize(X, y)\n"
     ]
    },
    {
     "name": "stdout",
     "output_type": "stream",
     "text": [
      "Input data shape for model: 121\n"
     ]
    },
    {
     "name": "stderr",
     "output_type": "stream",
     "text": [
      "/Users/i535223/devspace/venvs/ml/lib/python3.11/site-packages/scikeras/wrappers.py:925: UserWarning: ``build_fn`` will be renamed to ``model`` in a future release, at which point use of ``build_fn`` will raise an Error instead.\n",
      "  X, y = self._initialize(X, y)\n"
     ]
    },
    {
     "name": "stdout",
     "output_type": "stream",
     "text": [
      "Input data shape for model: 121\n"
     ]
    },
    {
     "name": "stderr",
     "output_type": "stream",
     "text": [
      "/Users/i535223/devspace/venvs/ml/lib/python3.11/site-packages/scikeras/wrappers.py:925: UserWarning: ``build_fn`` will be renamed to ``model`` in a future release, at which point use of ``build_fn`` will raise an Error instead.\n",
      "  X, y = self._initialize(X, y)\n"
     ]
    },
    {
     "name": "stdout",
     "output_type": "stream",
     "text": [
      "Input data shape for model: 121\n"
     ]
    },
    {
     "name": "stderr",
     "output_type": "stream",
     "text": [
      "/Users/i535223/devspace/venvs/ml/lib/python3.11/site-packages/scikeras/wrappers.py:925: UserWarning: ``build_fn`` will be renamed to ``model`` in a future release, at which point use of ``build_fn`` will raise an Error instead.\n",
      "  X, y = self._initialize(X, y)\n"
     ]
    },
    {
     "name": "stdout",
     "output_type": "stream",
     "text": [
      "Input data shape for model: 121\n"
     ]
    },
    {
     "name": "stderr",
     "output_type": "stream",
     "text": [
      "/Users/i535223/devspace/venvs/ml/lib/python3.11/site-packages/scikeras/wrappers.py:925: UserWarning: ``build_fn`` will be renamed to ``model`` in a future release, at which point use of ``build_fn`` will raise an Error instead.\n",
      "  X, y = self._initialize(X, y)\n"
     ]
    },
    {
     "name": "stdout",
     "output_type": "stream",
     "text": [
      "Input data shape for model: 121\n"
     ]
    },
    {
     "name": "stderr",
     "output_type": "stream",
     "text": [
      "/Users/i535223/devspace/venvs/ml/lib/python3.11/site-packages/scikeras/wrappers.py:925: UserWarning: ``build_fn`` will be renamed to ``model`` in a future release, at which point use of ``build_fn`` will raise an Error instead.\n",
      "  X, y = self._initialize(X, y)\n"
     ]
    },
    {
     "name": "stdout",
     "output_type": "stream",
     "text": [
      "Input data shape for model: 121\n"
     ]
    },
    {
     "name": "stderr",
     "output_type": "stream",
     "text": [
      "/Users/i535223/devspace/venvs/ml/lib/python3.11/site-packages/scikeras/wrappers.py:925: UserWarning: ``build_fn`` will be renamed to ``model`` in a future release, at which point use of ``build_fn`` will raise an Error instead.\n",
      "  X, y = self._initialize(X, y)\n"
     ]
    },
    {
     "name": "stdout",
     "output_type": "stream",
     "text": [
      "Input data shape for model: 121\n",
      "Input data shape for model: 121\n",
      "\\RandomizedSearchCV took 519.07 seconds (8.65 minutes)\n",
      "\n",
      "Best parameters combination found:\n",
      "rs_tuned_mlp__dropout_h1: True\n",
      "rs_tuned_mlp__dropout_h1_rate: 0.5\n",
      "rs_tuned_mlp__dropout_h2: False\n",
      "rs_tuned_mlp__dropout_h2_rate: 0.5\n",
      "rs_tuned_mlp__dropout_input: False\n",
      "rs_tuned_mlp__dropout_input_rate: 0.1\n",
      "rs_tuned_mlp__h1: False\n",
      "rs_tuned_mlp__h1_activation: tanh\n",
      "rs_tuned_mlp__h1_units: 128\n",
      "rs_tuned_mlp__h2: True\n",
      "rs_tuned_mlp__h2_activation: tanh\n",
      "rs_tuned_mlp__h2_units: 64\n",
      "rs_tuned_mlp__input_activation: relu\n",
      "rs_tuned_mlp__input_units: 128\n",
      "rs_tuned_mlp__learning_rate: 0.02\n"
     ]
    },
    {
     "data": {
      "text/plain": [
       "['./saved/KDD_best_mlp_model.pkl']"
      ]
     },
     "execution_count": 9,
     "metadata": {},
     "output_type": "execute_result"
    }
   ],
   "source": [
    "# Run random search on MLP and fit to training data\n",
    "print(\"\\nRunning RandomizedSearchCV for MLP...\")\n",
    "print(\"Hyperparameters to be evaluated:\\n\")\n",
    "pprint(parameter_grid)\n",
    "\n",
    "t0 = time()\n",
    "random_search.fit(X_train, y_train)\n",
    "print(\n",
    "    f\"\\RandomizedSearchCV took {time() - t0:.2f} seconds ({(time() - t0) / 60:.2f} minutes)\"\n",
    ")\n",
    "\n",
    "print(\"\\nBest parameters combination found:\")\n",
    "best_parameters = random_search.best_estimator_.get_params()\n",
    "for param_name in sorted(parameter_grid.keys()):\n",
    "    print(f\"{param_name}: {best_parameters[param_name]}\")\n",
    "\n",
    "# Best estimator from RandomizedSearchCV\n",
    "best_mlp_model = random_search.best_estimator_\n",
    "\n",
    "# save best model\n",
    "joblib.dump(best_mlp_model, f\"./saved/{CKP_PREFIX}best_mlp_model.pkl\")\n"
   ]
  },
  {
   "cell_type": "code",
   "execution_count": 10,
   "metadata": {},
   "outputs": [
    {
     "data": {
      "text/html": [
       "<style>#sk-container-id-1 {\n",
       "  /* Definition of color scheme common for light and dark mode */\n",
       "  --sklearn-color-text: black;\n",
       "  --sklearn-color-line: gray;\n",
       "  /* Definition of color scheme for unfitted estimators */\n",
       "  --sklearn-color-unfitted-level-0: #fff5e6;\n",
       "  --sklearn-color-unfitted-level-1: #f6e4d2;\n",
       "  --sklearn-color-unfitted-level-2: #ffe0b3;\n",
       "  --sklearn-color-unfitted-level-3: chocolate;\n",
       "  /* Definition of color scheme for fitted estimators */\n",
       "  --sklearn-color-fitted-level-0: #f0f8ff;\n",
       "  --sklearn-color-fitted-level-1: #d4ebff;\n",
       "  --sklearn-color-fitted-level-2: #b3dbfd;\n",
       "  --sklearn-color-fitted-level-3: cornflowerblue;\n",
       "\n",
       "  /* Specific color for light theme */\n",
       "  --sklearn-color-text-on-default-background: var(--sg-text-color, var(--theme-code-foreground, var(--jp-content-font-color1, black)));\n",
       "  --sklearn-color-background: var(--sg-background-color, var(--theme-background, var(--jp-layout-color0, white)));\n",
       "  --sklearn-color-border-box: var(--sg-text-color, var(--theme-code-foreground, var(--jp-content-font-color1, black)));\n",
       "  --sklearn-color-icon: #696969;\n",
       "\n",
       "  @media (prefers-color-scheme: dark) {\n",
       "    /* Redefinition of color scheme for dark theme */\n",
       "    --sklearn-color-text-on-default-background: var(--sg-text-color, var(--theme-code-foreground, var(--jp-content-font-color1, white)));\n",
       "    --sklearn-color-background: var(--sg-background-color, var(--theme-background, var(--jp-layout-color0, #111)));\n",
       "    --sklearn-color-border-box: var(--sg-text-color, var(--theme-code-foreground, var(--jp-content-font-color1, white)));\n",
       "    --sklearn-color-icon: #878787;\n",
       "  }\n",
       "}\n",
       "\n",
       "#sk-container-id-1 {\n",
       "  color: var(--sklearn-color-text);\n",
       "}\n",
       "\n",
       "#sk-container-id-1 pre {\n",
       "  padding: 0;\n",
       "}\n",
       "\n",
       "#sk-container-id-1 input.sk-hidden--visually {\n",
       "  border: 0;\n",
       "  clip: rect(1px 1px 1px 1px);\n",
       "  clip: rect(1px, 1px, 1px, 1px);\n",
       "  height: 1px;\n",
       "  margin: -1px;\n",
       "  overflow: hidden;\n",
       "  padding: 0;\n",
       "  position: absolute;\n",
       "  width: 1px;\n",
       "}\n",
       "\n",
       "#sk-container-id-1 div.sk-dashed-wrapped {\n",
       "  border: 1px dashed var(--sklearn-color-line);\n",
       "  margin: 0 0.4em 0.5em 0.4em;\n",
       "  box-sizing: border-box;\n",
       "  padding-bottom: 0.4em;\n",
       "  background-color: var(--sklearn-color-background);\n",
       "}\n",
       "\n",
       "#sk-container-id-1 div.sk-container {\n",
       "  /* jupyter's `normalize.less` sets `[hidden] { display: none; }`\n",
       "     but bootstrap.min.css set `[hidden] { display: none !important; }`\n",
       "     so we also need the `!important` here to be able to override the\n",
       "     default hidden behavior on the sphinx rendered scikit-learn.org.\n",
       "     See: https://github.com/scikit-learn/scikit-learn/issues/21755 */\n",
       "  display: inline-block !important;\n",
       "  position: relative;\n",
       "}\n",
       "\n",
       "#sk-container-id-1 div.sk-text-repr-fallback {\n",
       "  display: none;\n",
       "}\n",
       "\n",
       "div.sk-parallel-item,\n",
       "div.sk-serial,\n",
       "div.sk-item {\n",
       "  /* draw centered vertical line to link estimators */\n",
       "  background-image: linear-gradient(var(--sklearn-color-text-on-default-background), var(--sklearn-color-text-on-default-background));\n",
       "  background-size: 2px 100%;\n",
       "  background-repeat: no-repeat;\n",
       "  background-position: center center;\n",
       "}\n",
       "\n",
       "/* Parallel-specific style estimator block */\n",
       "\n",
       "#sk-container-id-1 div.sk-parallel-item::after {\n",
       "  content: \"\";\n",
       "  width: 100%;\n",
       "  border-bottom: 2px solid var(--sklearn-color-text-on-default-background);\n",
       "  flex-grow: 1;\n",
       "}\n",
       "\n",
       "#sk-container-id-1 div.sk-parallel {\n",
       "  display: flex;\n",
       "  align-items: stretch;\n",
       "  justify-content: center;\n",
       "  background-color: var(--sklearn-color-background);\n",
       "  position: relative;\n",
       "}\n",
       "\n",
       "#sk-container-id-1 div.sk-parallel-item {\n",
       "  display: flex;\n",
       "  flex-direction: column;\n",
       "}\n",
       "\n",
       "#sk-container-id-1 div.sk-parallel-item:first-child::after {\n",
       "  align-self: flex-end;\n",
       "  width: 50%;\n",
       "}\n",
       "\n",
       "#sk-container-id-1 div.sk-parallel-item:last-child::after {\n",
       "  align-self: flex-start;\n",
       "  width: 50%;\n",
       "}\n",
       "\n",
       "#sk-container-id-1 div.sk-parallel-item:only-child::after {\n",
       "  width: 0;\n",
       "}\n",
       "\n",
       "/* Serial-specific style estimator block */\n",
       "\n",
       "#sk-container-id-1 div.sk-serial {\n",
       "  display: flex;\n",
       "  flex-direction: column;\n",
       "  align-items: center;\n",
       "  background-color: var(--sklearn-color-background);\n",
       "  padding-right: 1em;\n",
       "  padding-left: 1em;\n",
       "}\n",
       "\n",
       "\n",
       "/* Toggleable style: style used for estimator/Pipeline/ColumnTransformer box that is\n",
       "clickable and can be expanded/collapsed.\n",
       "- Pipeline and ColumnTransformer use this feature and define the default style\n",
       "- Estimators will overwrite some part of the style using the `sk-estimator` class\n",
       "*/\n",
       "\n",
       "/* Pipeline and ColumnTransformer style (default) */\n",
       "\n",
       "#sk-container-id-1 div.sk-toggleable {\n",
       "  /* Default theme specific background. It is overwritten whether we have a\n",
       "  specific estimator or a Pipeline/ColumnTransformer */\n",
       "  background-color: var(--sklearn-color-background);\n",
       "}\n",
       "\n",
       "/* Toggleable label */\n",
       "#sk-container-id-1 label.sk-toggleable__label {\n",
       "  cursor: pointer;\n",
       "  display: block;\n",
       "  width: 100%;\n",
       "  margin-bottom: 0;\n",
       "  padding: 0.5em;\n",
       "  box-sizing: border-box;\n",
       "  text-align: center;\n",
       "}\n",
       "\n",
       "#sk-container-id-1 label.sk-toggleable__label-arrow:before {\n",
       "  /* Arrow on the left of the label */\n",
       "  content: \"▸\";\n",
       "  float: left;\n",
       "  margin-right: 0.25em;\n",
       "  color: var(--sklearn-color-icon);\n",
       "}\n",
       "\n",
       "#sk-container-id-1 label.sk-toggleable__label-arrow:hover:before {\n",
       "  color: var(--sklearn-color-text);\n",
       "}\n",
       "\n",
       "/* Toggleable content - dropdown */\n",
       "\n",
       "#sk-container-id-1 div.sk-toggleable__content {\n",
       "  max-height: 0;\n",
       "  max-width: 0;\n",
       "  overflow: hidden;\n",
       "  text-align: left;\n",
       "  /* unfitted */\n",
       "  background-color: var(--sklearn-color-unfitted-level-0);\n",
       "}\n",
       "\n",
       "#sk-container-id-1 div.sk-toggleable__content.fitted {\n",
       "  /* fitted */\n",
       "  background-color: var(--sklearn-color-fitted-level-0);\n",
       "}\n",
       "\n",
       "#sk-container-id-1 div.sk-toggleable__content pre {\n",
       "  margin: 0.2em;\n",
       "  border-radius: 0.25em;\n",
       "  color: var(--sklearn-color-text);\n",
       "  /* unfitted */\n",
       "  background-color: var(--sklearn-color-unfitted-level-0);\n",
       "}\n",
       "\n",
       "#sk-container-id-1 div.sk-toggleable__content.fitted pre {\n",
       "  /* unfitted */\n",
       "  background-color: var(--sklearn-color-fitted-level-0);\n",
       "}\n",
       "\n",
       "#sk-container-id-1 input.sk-toggleable__control:checked~div.sk-toggleable__content {\n",
       "  /* Expand drop-down */\n",
       "  max-height: 200px;\n",
       "  max-width: 100%;\n",
       "  overflow: auto;\n",
       "}\n",
       "\n",
       "#sk-container-id-1 input.sk-toggleable__control:checked~label.sk-toggleable__label-arrow:before {\n",
       "  content: \"▾\";\n",
       "}\n",
       "\n",
       "/* Pipeline/ColumnTransformer-specific style */\n",
       "\n",
       "#sk-container-id-1 div.sk-label input.sk-toggleable__control:checked~label.sk-toggleable__label {\n",
       "  color: var(--sklearn-color-text);\n",
       "  background-color: var(--sklearn-color-unfitted-level-2);\n",
       "}\n",
       "\n",
       "#sk-container-id-1 div.sk-label.fitted input.sk-toggleable__control:checked~label.sk-toggleable__label {\n",
       "  background-color: var(--sklearn-color-fitted-level-2);\n",
       "}\n",
       "\n",
       "/* Estimator-specific style */\n",
       "\n",
       "/* Colorize estimator box */\n",
       "#sk-container-id-1 div.sk-estimator input.sk-toggleable__control:checked~label.sk-toggleable__label {\n",
       "  /* unfitted */\n",
       "  background-color: var(--sklearn-color-unfitted-level-2);\n",
       "}\n",
       "\n",
       "#sk-container-id-1 div.sk-estimator.fitted input.sk-toggleable__control:checked~label.sk-toggleable__label {\n",
       "  /* fitted */\n",
       "  background-color: var(--sklearn-color-fitted-level-2);\n",
       "}\n",
       "\n",
       "#sk-container-id-1 div.sk-label label.sk-toggleable__label,\n",
       "#sk-container-id-1 div.sk-label label {\n",
       "  /* The background is the default theme color */\n",
       "  color: var(--sklearn-color-text-on-default-background);\n",
       "}\n",
       "\n",
       "/* On hover, darken the color of the background */\n",
       "#sk-container-id-1 div.sk-label:hover label.sk-toggleable__label {\n",
       "  color: var(--sklearn-color-text);\n",
       "  background-color: var(--sklearn-color-unfitted-level-2);\n",
       "}\n",
       "\n",
       "/* Label box, darken color on hover, fitted */\n",
       "#sk-container-id-1 div.sk-label.fitted:hover label.sk-toggleable__label.fitted {\n",
       "  color: var(--sklearn-color-text);\n",
       "  background-color: var(--sklearn-color-fitted-level-2);\n",
       "}\n",
       "\n",
       "/* Estimator label */\n",
       "\n",
       "#sk-container-id-1 div.sk-label label {\n",
       "  font-family: monospace;\n",
       "  font-weight: bold;\n",
       "  display: inline-block;\n",
       "  line-height: 1.2em;\n",
       "}\n",
       "\n",
       "#sk-container-id-1 div.sk-label-container {\n",
       "  text-align: center;\n",
       "}\n",
       "\n",
       "/* Estimator-specific */\n",
       "#sk-container-id-1 div.sk-estimator {\n",
       "  font-family: monospace;\n",
       "  border: 1px dotted var(--sklearn-color-border-box);\n",
       "  border-radius: 0.25em;\n",
       "  box-sizing: border-box;\n",
       "  margin-bottom: 0.5em;\n",
       "  /* unfitted */\n",
       "  background-color: var(--sklearn-color-unfitted-level-0);\n",
       "}\n",
       "\n",
       "#sk-container-id-1 div.sk-estimator.fitted {\n",
       "  /* fitted */\n",
       "  background-color: var(--sklearn-color-fitted-level-0);\n",
       "}\n",
       "\n",
       "/* on hover */\n",
       "#sk-container-id-1 div.sk-estimator:hover {\n",
       "  /* unfitted */\n",
       "  background-color: var(--sklearn-color-unfitted-level-2);\n",
       "}\n",
       "\n",
       "#sk-container-id-1 div.sk-estimator.fitted:hover {\n",
       "  /* fitted */\n",
       "  background-color: var(--sklearn-color-fitted-level-2);\n",
       "}\n",
       "\n",
       "/* Specification for estimator info (e.g. \"i\" and \"?\") */\n",
       "\n",
       "/* Common style for \"i\" and \"?\" */\n",
       "\n",
       ".sk-estimator-doc-link,\n",
       "a:link.sk-estimator-doc-link,\n",
       "a:visited.sk-estimator-doc-link {\n",
       "  float: right;\n",
       "  font-size: smaller;\n",
       "  line-height: 1em;\n",
       "  font-family: monospace;\n",
       "  background-color: var(--sklearn-color-background);\n",
       "  border-radius: 1em;\n",
       "  height: 1em;\n",
       "  width: 1em;\n",
       "  text-decoration: none !important;\n",
       "  margin-left: 1ex;\n",
       "  /* unfitted */\n",
       "  border: var(--sklearn-color-unfitted-level-1) 1pt solid;\n",
       "  color: var(--sklearn-color-unfitted-level-1);\n",
       "}\n",
       "\n",
       ".sk-estimator-doc-link.fitted,\n",
       "a:link.sk-estimator-doc-link.fitted,\n",
       "a:visited.sk-estimator-doc-link.fitted {\n",
       "  /* fitted */\n",
       "  border: var(--sklearn-color-fitted-level-1) 1pt solid;\n",
       "  color: var(--sklearn-color-fitted-level-1);\n",
       "}\n",
       "\n",
       "/* On hover */\n",
       "div.sk-estimator:hover .sk-estimator-doc-link:hover,\n",
       ".sk-estimator-doc-link:hover,\n",
       "div.sk-label-container:hover .sk-estimator-doc-link:hover,\n",
       ".sk-estimator-doc-link:hover {\n",
       "  /* unfitted */\n",
       "  background-color: var(--sklearn-color-unfitted-level-3);\n",
       "  color: var(--sklearn-color-background);\n",
       "  text-decoration: none;\n",
       "}\n",
       "\n",
       "div.sk-estimator.fitted:hover .sk-estimator-doc-link.fitted:hover,\n",
       ".sk-estimator-doc-link.fitted:hover,\n",
       "div.sk-label-container:hover .sk-estimator-doc-link.fitted:hover,\n",
       ".sk-estimator-doc-link.fitted:hover {\n",
       "  /* fitted */\n",
       "  background-color: var(--sklearn-color-fitted-level-3);\n",
       "  color: var(--sklearn-color-background);\n",
       "  text-decoration: none;\n",
       "}\n",
       "\n",
       "/* Span, style for the box shown on hovering the info icon */\n",
       ".sk-estimator-doc-link span {\n",
       "  display: none;\n",
       "  z-index: 9999;\n",
       "  position: relative;\n",
       "  font-weight: normal;\n",
       "  right: .2ex;\n",
       "  padding: .5ex;\n",
       "  margin: .5ex;\n",
       "  width: min-content;\n",
       "  min-width: 20ex;\n",
       "  max-width: 50ex;\n",
       "  color: var(--sklearn-color-text);\n",
       "  box-shadow: 2pt 2pt 4pt #999;\n",
       "  /* unfitted */\n",
       "  background: var(--sklearn-color-unfitted-level-0);\n",
       "  border: .5pt solid var(--sklearn-color-unfitted-level-3);\n",
       "}\n",
       "\n",
       ".sk-estimator-doc-link.fitted span {\n",
       "  /* fitted */\n",
       "  background: var(--sklearn-color-fitted-level-0);\n",
       "  border: var(--sklearn-color-fitted-level-3);\n",
       "}\n",
       "\n",
       ".sk-estimator-doc-link:hover span {\n",
       "  display: block;\n",
       "}\n",
       "\n",
       "/* \"?\"-specific style due to the `<a>` HTML tag */\n",
       "\n",
       "#sk-container-id-1 a.estimator_doc_link {\n",
       "  float: right;\n",
       "  font-size: 1rem;\n",
       "  line-height: 1em;\n",
       "  font-family: monospace;\n",
       "  background-color: var(--sklearn-color-background);\n",
       "  border-radius: 1rem;\n",
       "  height: 1rem;\n",
       "  width: 1rem;\n",
       "  text-decoration: none;\n",
       "  /* unfitted */\n",
       "  color: var(--sklearn-color-unfitted-level-1);\n",
       "  border: var(--sklearn-color-unfitted-level-1) 1pt solid;\n",
       "}\n",
       "\n",
       "#sk-container-id-1 a.estimator_doc_link.fitted {\n",
       "  /* fitted */\n",
       "  border: var(--sklearn-color-fitted-level-1) 1pt solid;\n",
       "  color: var(--sklearn-color-fitted-level-1);\n",
       "}\n",
       "\n",
       "/* On hover */\n",
       "#sk-container-id-1 a.estimator_doc_link:hover {\n",
       "  /* unfitted */\n",
       "  background-color: var(--sklearn-color-unfitted-level-3);\n",
       "  color: var(--sklearn-color-background);\n",
       "  text-decoration: none;\n",
       "}\n",
       "\n",
       "#sk-container-id-1 a.estimator_doc_link.fitted:hover {\n",
       "  /* fitted */\n",
       "  background-color: var(--sklearn-color-fitted-level-3);\n",
       "}\n",
       "</style><div id=\"sk-container-id-1\" class=\"sk-top-container\"><div class=\"sk-text-repr-fallback\"><pre>Pipeline(steps=[(&#x27;preprocessor&#x27;,\n",
       "                 ColumnTransformer(transformers=[(&#x27;num&#x27;, StandardScaler(),\n",
       "                                                  Index([&#x27;duration&#x27;, &#x27;src_bytes&#x27;, &#x27;dst_bytes&#x27;, &#x27;wrong_fragment&#x27;, &#x27;urgent&#x27;, &#x27;hot&#x27;,\n",
       "       &#x27;num_failed_logins&#x27;, &#x27;num_compromised&#x27;, &#x27;root_shell&#x27;, &#x27;su_attempted&#x27;,\n",
       "       &#x27;num_root&#x27;, &#x27;num_file_creations&#x27;, &#x27;num_shells&#x27;, &#x27;num_access_files&#x27;,\n",
       "       &#x27;num_outbound_cmds&#x27;, &#x27;count&#x27;, &#x27;srv_count&#x27;, &#x27;serror_rate&#x27;,\n",
       "       &#x27;srv...\n",
       "                 KerasClassifier(batch_size=2048, build_fn=&lt;function _random_search_mlp at 0x32e2620c0&gt;, class_weight={0: 4.991290198603437e-06, 1: 2.062961587655238e-05}, dropout_h1=True, dropout_h1_rate=0.5, dropout_h2=False, dropout_h2_rate=0.5, dropout_input=False, dropout_input_rate=0.1, epochs=50, h1=False, h1_activation=&#x27;tanh&#x27;, h1_units=128, h2=True, h2_activation=&#x27;tanh&#x27;, h2_units=64, input_activation=&#x27;relu&#x27;, input_units=128, learning_rate=0.02, loss=&#x27;binary_crossentropy&#x27;, name=&#x27;rs_mlp&#x27;, optimizer=&lt;keras.src.optimizers.adam.Adam object at 0x3a49d91d0&gt;, random_state=42, verbose=0))])</pre><b>In a Jupyter environment, please rerun this cell to show the HTML representation or trust the notebook. <br />On GitHub, the HTML representation is unable to render, please try loading this page with nbviewer.org.</b></div><div class=\"sk-container\" hidden><div class=\"sk-item sk-dashed-wrapped\"><div class=\"sk-label-container\"><div class=\"sk-label fitted sk-toggleable\"><input class=\"sk-toggleable__control sk-hidden--visually\" id=\"sk-estimator-id-1\" type=\"checkbox\" ><label for=\"sk-estimator-id-1\" class=\"sk-toggleable__label fitted sk-toggleable__label-arrow fitted\">&nbsp;&nbsp;Pipeline<a class=\"sk-estimator-doc-link fitted\" rel=\"noreferrer\" target=\"_blank\" href=\"https://scikit-learn.org/1.4/modules/generated/sklearn.pipeline.Pipeline.html\">?<span>Documentation for Pipeline</span></a><span class=\"sk-estimator-doc-link fitted\">i<span>Fitted</span></span></label><div class=\"sk-toggleable__content fitted\"><pre>Pipeline(steps=[(&#x27;preprocessor&#x27;,\n",
       "                 ColumnTransformer(transformers=[(&#x27;num&#x27;, StandardScaler(),\n",
       "                                                  Index([&#x27;duration&#x27;, &#x27;src_bytes&#x27;, &#x27;dst_bytes&#x27;, &#x27;wrong_fragment&#x27;, &#x27;urgent&#x27;, &#x27;hot&#x27;,\n",
       "       &#x27;num_failed_logins&#x27;, &#x27;num_compromised&#x27;, &#x27;root_shell&#x27;, &#x27;su_attempted&#x27;,\n",
       "       &#x27;num_root&#x27;, &#x27;num_file_creations&#x27;, &#x27;num_shells&#x27;, &#x27;num_access_files&#x27;,\n",
       "       &#x27;num_outbound_cmds&#x27;, &#x27;count&#x27;, &#x27;srv_count&#x27;, &#x27;serror_rate&#x27;,\n",
       "       &#x27;srv...\n",
       "                 KerasClassifier(batch_size=2048, build_fn=&lt;function _random_search_mlp at 0x32e2620c0&gt;, class_weight={0: 4.991290198603437e-06, 1: 2.062961587655238e-05}, dropout_h1=True, dropout_h1_rate=0.5, dropout_h2=False, dropout_h2_rate=0.5, dropout_input=False, dropout_input_rate=0.1, epochs=50, h1=False, h1_activation=&#x27;tanh&#x27;, h1_units=128, h2=True, h2_activation=&#x27;tanh&#x27;, h2_units=64, input_activation=&#x27;relu&#x27;, input_units=128, learning_rate=0.02, loss=&#x27;binary_crossentropy&#x27;, name=&#x27;rs_mlp&#x27;, optimizer=&lt;keras.src.optimizers.adam.Adam object at 0x3a49d91d0&gt;, random_state=42, verbose=0))])</pre></div> </div></div><div class=\"sk-serial\"><div class=\"sk-item sk-dashed-wrapped\"><div class=\"sk-label-container\"><div class=\"sk-label fitted sk-toggleable\"><input class=\"sk-toggleable__control sk-hidden--visually\" id=\"sk-estimator-id-2\" type=\"checkbox\" ><label for=\"sk-estimator-id-2\" class=\"sk-toggleable__label fitted sk-toggleable__label-arrow fitted\">&nbsp;preprocessor: ColumnTransformer<a class=\"sk-estimator-doc-link fitted\" rel=\"noreferrer\" target=\"_blank\" href=\"https://scikit-learn.org/1.4/modules/generated/sklearn.compose.ColumnTransformer.html\">?<span>Documentation for preprocessor: ColumnTransformer</span></a></label><div class=\"sk-toggleable__content fitted\"><pre>ColumnTransformer(transformers=[(&#x27;num&#x27;, StandardScaler(),\n",
       "                                 Index([&#x27;duration&#x27;, &#x27;src_bytes&#x27;, &#x27;dst_bytes&#x27;, &#x27;wrong_fragment&#x27;, &#x27;urgent&#x27;, &#x27;hot&#x27;,\n",
       "       &#x27;num_failed_logins&#x27;, &#x27;num_compromised&#x27;, &#x27;root_shell&#x27;, &#x27;su_attempted&#x27;,\n",
       "       &#x27;num_root&#x27;, &#x27;num_file_creations&#x27;, &#x27;num_shells&#x27;, &#x27;num_access_files&#x27;,\n",
       "       &#x27;num_outbound_cmds&#x27;, &#x27;count&#x27;, &#x27;srv_count&#x27;, &#x27;serror_rate&#x27;,\n",
       "       &#x27;srv_serror_rate&#x27;, &#x27;rerror_rate&#x27;, &#x27;srv...\n",
       "       &#x27;sunrpc&#x27;, &#x27;supdup&#x27;, &#x27;systat&#x27;, &#x27;telnet&#x27;, &#x27;tftp_u&#x27;, &#x27;tim_i&#x27;, &#x27;time&#x27;,\n",
       "       &#x27;urp_i&#x27;, &#x27;uucp&#x27;, &#x27;uucp_path&#x27;, &#x27;vmnet&#x27;, &#x27;whois&#x27;], dtype=object),\n",
       "                                                           array([&#x27;OTH&#x27;, &#x27;REJ&#x27;, &#x27;RSTO&#x27;, &#x27;RSTOS0&#x27;, &#x27;RSTR&#x27;, &#x27;S0&#x27;, &#x27;S1&#x27;, &#x27;S2&#x27;, &#x27;S3&#x27;,\n",
       "       &#x27;SF&#x27;, &#x27;SH&#x27;], dtype=object),\n",
       "                                                           array([0, 1]),\n",
       "                                                           array([0, 1]),\n",
       "                                                           array([0, 1]),\n",
       "                                                           array([0, 1])],\n",
       "                                               dtype=&#x27;int8&#x27;,\n",
       "                                               handle_unknown=&#x27;ignore&#x27;,\n",
       "                                               sparse_output=False),\n",
       "                                 [&#x27;protocol_type&#x27;, &#x27;service&#x27;, &#x27;flag&#x27;, &#x27;land&#x27;,\n",
       "                                  &#x27;logged_in&#x27;, &#x27;is_host_login&#x27;,\n",
       "                                  &#x27;is_guest_login&#x27;])])</pre></div> </div></div><div class=\"sk-parallel\"><div class=\"sk-parallel-item\"><div class=\"sk-item\"><div class=\"sk-label-container\"><div class=\"sk-label fitted sk-toggleable\"><input class=\"sk-toggleable__control sk-hidden--visually\" id=\"sk-estimator-id-3\" type=\"checkbox\" ><label for=\"sk-estimator-id-3\" class=\"sk-toggleable__label fitted sk-toggleable__label-arrow fitted\">num</label><div class=\"sk-toggleable__content fitted\"><pre>Index([&#x27;duration&#x27;, &#x27;src_bytes&#x27;, &#x27;dst_bytes&#x27;, &#x27;wrong_fragment&#x27;, &#x27;urgent&#x27;, &#x27;hot&#x27;,\n",
       "       &#x27;num_failed_logins&#x27;, &#x27;num_compromised&#x27;, &#x27;root_shell&#x27;, &#x27;su_attempted&#x27;,\n",
       "       &#x27;num_root&#x27;, &#x27;num_file_creations&#x27;, &#x27;num_shells&#x27;, &#x27;num_access_files&#x27;,\n",
       "       &#x27;num_outbound_cmds&#x27;, &#x27;count&#x27;, &#x27;srv_count&#x27;, &#x27;serror_rate&#x27;,\n",
       "       &#x27;srv_serror_rate&#x27;, &#x27;rerror_rate&#x27;, &#x27;srv_rerror_rate&#x27;, &#x27;same_srv_rate&#x27;,\n",
       "       &#x27;diff_srv_rate&#x27;, &#x27;srv_diff_host_rate&#x27;, &#x27;dst_host_count&#x27;,\n",
       "       &#x27;dst_host_srv_count&#x27;, &#x27;dst_host_same_srv_rate&#x27;,\n",
       "       &#x27;dst_host_diff_srv_rate&#x27;, &#x27;dst_host_same_src_port_rate&#x27;,\n",
       "       &#x27;dst_host_srv_diff_host_rate&#x27;, &#x27;dst_host_serror_rate&#x27;,\n",
       "       &#x27;dst_host_srv_serror_rate&#x27;, &#x27;dst_host_rerror_rate&#x27;,\n",
       "       &#x27;dst_host_srv_rerror_rate&#x27;],\n",
       "      dtype=&#x27;object&#x27;)</pre></div> </div></div><div class=\"sk-serial\"><div class=\"sk-item\"><div class=\"sk-estimator fitted sk-toggleable\"><input class=\"sk-toggleable__control sk-hidden--visually\" id=\"sk-estimator-id-4\" type=\"checkbox\" ><label for=\"sk-estimator-id-4\" class=\"sk-toggleable__label fitted sk-toggleable__label-arrow fitted\">&nbsp;StandardScaler<a class=\"sk-estimator-doc-link fitted\" rel=\"noreferrer\" target=\"_blank\" href=\"https://scikit-learn.org/1.4/modules/generated/sklearn.preprocessing.StandardScaler.html\">?<span>Documentation for StandardScaler</span></a></label><div class=\"sk-toggleable__content fitted\"><pre>StandardScaler()</pre></div> </div></div></div></div></div><div class=\"sk-parallel-item\"><div class=\"sk-item\"><div class=\"sk-label-container\"><div class=\"sk-label fitted sk-toggleable\"><input class=\"sk-toggleable__control sk-hidden--visually\" id=\"sk-estimator-id-5\" type=\"checkbox\" ><label for=\"sk-estimator-id-5\" class=\"sk-toggleable__label fitted sk-toggleable__label-arrow fitted\">cat</label><div class=\"sk-toggleable__content fitted\"><pre>[&#x27;protocol_type&#x27;, &#x27;service&#x27;, &#x27;flag&#x27;, &#x27;land&#x27;, &#x27;logged_in&#x27;, &#x27;is_host_login&#x27;, &#x27;is_guest_login&#x27;]</pre></div> </div></div><div class=\"sk-serial\"><div class=\"sk-item\"><div class=\"sk-estimator fitted sk-toggleable\"><input class=\"sk-toggleable__control sk-hidden--visually\" id=\"sk-estimator-id-6\" type=\"checkbox\" ><label for=\"sk-estimator-id-6\" class=\"sk-toggleable__label fitted sk-toggleable__label-arrow fitted\">&nbsp;OneHotEncoder<a class=\"sk-estimator-doc-link fitted\" rel=\"noreferrer\" target=\"_blank\" href=\"https://scikit-learn.org/1.4/modules/generated/sklearn.preprocessing.OneHotEncoder.html\">?<span>Documentation for OneHotEncoder</span></a></label><div class=\"sk-toggleable__content fitted\"><pre>OneHotEncoder(categories=[array([&#x27;icmp&#x27;, &#x27;tcp&#x27;, &#x27;udp&#x27;], dtype=object),\n",
       "                          array([&#x27;IRC&#x27;, &#x27;X11&#x27;, &#x27;Z39_50&#x27;, &#x27;auth&#x27;, &#x27;bgp&#x27;, &#x27;courier&#x27;, &#x27;csnet_ns&#x27;,\n",
       "       &#x27;ctf&#x27;, &#x27;daytime&#x27;, &#x27;discard&#x27;, &#x27;domain&#x27;, &#x27;domain_u&#x27;, &#x27;echo&#x27;, &#x27;eco_i&#x27;,\n",
       "       &#x27;ecr_i&#x27;, &#x27;efs&#x27;, &#x27;exec&#x27;, &#x27;finger&#x27;, &#x27;ftp&#x27;, &#x27;ftp_data&#x27;, &#x27;gopher&#x27;,\n",
       "       &#x27;hostnames&#x27;, &#x27;http&#x27;, &#x27;http_443&#x27;, &#x27;icmp&#x27;, &#x27;imap4&#x27;, &#x27;iso_tsap&#x27;,\n",
       "       &#x27;klogin&#x27;, &#x27;kshell&#x27;, &#x27;ldap&#x27;, &#x27;link&#x27;, &#x27;login&#x27;, &#x27;mtp&#x27;, &#x27;n...\n",
       "       &#x27;private&#x27;, &#x27;remote_job&#x27;, &#x27;rje&#x27;, &#x27;shell&#x27;, &#x27;smtp&#x27;, &#x27;sql_net&#x27;, &#x27;ssh&#x27;,\n",
       "       &#x27;sunrpc&#x27;, &#x27;supdup&#x27;, &#x27;systat&#x27;, &#x27;telnet&#x27;, &#x27;tftp_u&#x27;, &#x27;tim_i&#x27;, &#x27;time&#x27;,\n",
       "       &#x27;urp_i&#x27;, &#x27;uucp&#x27;, &#x27;uucp_path&#x27;, &#x27;vmnet&#x27;, &#x27;whois&#x27;], dtype=object),\n",
       "                          array([&#x27;OTH&#x27;, &#x27;REJ&#x27;, &#x27;RSTO&#x27;, &#x27;RSTOS0&#x27;, &#x27;RSTR&#x27;, &#x27;S0&#x27;, &#x27;S1&#x27;, &#x27;S2&#x27;, &#x27;S3&#x27;,\n",
       "       &#x27;SF&#x27;, &#x27;SH&#x27;], dtype=object),\n",
       "                          array([0, 1]), array([0, 1]), array([0, 1]),\n",
       "                          array([0, 1])],\n",
       "              dtype=&#x27;int8&#x27;, handle_unknown=&#x27;ignore&#x27;, sparse_output=False)</pre></div> </div></div></div></div></div></div></div><div class=\"sk-item\"><div class=\"sk-estimator fitted sk-toggleable\"><input class=\"sk-toggleable__control sk-hidden--visually\" id=\"sk-estimator-id-7\" type=\"checkbox\" ><label for=\"sk-estimator-id-7\" class=\"sk-toggleable__label fitted sk-toggleable__label-arrow fitted\">KerasClassifier</label><div class=\"sk-toggleable__content fitted\"><pre>KerasClassifier(\n",
       "\tmodel=None\n",
       "\tbuild_fn=&lt;function _random_search_mlp at 0x32e2620c0&gt;\n",
       "\twarm_start=False\n",
       "\trandom_state=42\n",
       "\toptimizer=&lt;keras.src.optimizers.adam.Adam object at 0x3a49d91d0&gt;\n",
       "\tloss=binary_crossentropy\n",
       "\tmetrics=None\n",
       "\tbatch_size=2048\n",
       "\tvalidation_batch_size=None\n",
       "\tverbose=0\n",
       "\tcallbacks=None\n",
       "\tvalidation_split=0.0\n",
       "\tshuffle=True\n",
       "\trun_eagerly=False\n",
       "\tepochs=50\n",
       "\tinput_units=128\n",
       "\tinput_activation=relu\n",
       "\tdropout_input=False\n",
       "\tdropout_input_rate=0.1\n",
       "\th1=False\n",
       "\th1_units=128\n",
       "\th1_activation=tanh\n",
       "\tdropout_h1=True\n",
       "\tdropout_h1_rate=0.5\n",
       "\th2=True\n",
       "\th2_units=64\n",
       "\th2_activation=tanh\n",
       "\tdropout_h2=False\n",
       "\tdropout_h2_rate=0.5\n",
       "\tlearning_rate=0.02\n",
       "\tname=rs_mlp\n",
       "\tclass_weight={0: 4.991290198603437e-06, 1: 2.062961587655238e-05}\n",
       ")</pre></div> </div></div></div></div></div></div>"
      ],
      "text/plain": [
       "Pipeline(steps=[('preprocessor',\n",
       "                 ColumnTransformer(transformers=[('num', StandardScaler(),\n",
       "                                                  Index(['duration', 'src_bytes', 'dst_bytes', 'wrong_fragment', 'urgent', 'hot',\n",
       "       'num_failed_logins', 'num_compromised', 'root_shell', 'su_attempted',\n",
       "       'num_root', 'num_file_creations', 'num_shells', 'num_access_files',\n",
       "       'num_outbound_cmds', 'count', 'srv_count', 'serror_rate',\n",
       "       'srv...\n",
       "                 KerasClassifier(batch_size=2048, build_fn=<function _random_search_mlp at 0x32e2620c0>, class_weight={0: 4.991290198603437e-06, 1: 2.062961587655238e-05}, dropout_h1=True, dropout_h1_rate=0.5, dropout_h2=False, dropout_h2_rate=0.5, dropout_input=False, dropout_input_rate=0.1, epochs=50, h1=False, h1_activation='tanh', h1_units=128, h2=True, h2_activation='tanh', h2_units=64, input_activation='relu', input_units=128, learning_rate=0.02, loss='binary_crossentropy', name='rs_mlp', optimizer=<keras.src.optimizers.adam.Adam object at 0x3a49d91d0>, random_state=42, verbose=0))])"
      ]
     },
     "execution_count": 10,
     "metadata": {},
     "output_type": "execute_result"
    }
   ],
   "source": [
    "random_search.best_estimator_"
   ]
  },
  {
   "cell_type": "code",
   "execution_count": 11,
   "metadata": {},
   "outputs": [
    {
     "data": {
      "text/plain": [
       "{'mean_fit_time': array([112.94750271, 186.21217852, 226.59421291,  70.44412284,\n",
       "         42.58847923,  91.1659132 ,  46.88212128,  60.38853736,\n",
       "         62.94483333,  41.34782515]),\n",
       " 'std_fit_time': array([ 0.4792036 ,  8.27516406, 12.78120601, 17.02539807,  0.86298665,\n",
       "         8.86312741,  2.01899701,  3.35714585,  5.36830192,  7.62046394]),\n",
       " 'mean_score_time': array([1.15857949, 1.60471215, 1.04248762, 0.91123891, 0.24894795,\n",
       "        0.33319602, 0.25049224, 0.28000126, 0.28403959, 0.21194129]),\n",
       " 'std_score_time': array([0.27650992, 0.59088901, 0.77911462, 0.77873501, 0.00780244,\n",
       "        0.02235328, 0.01476081, 0.0269484 , 0.01982576, 0.03106001]),\n",
       " 'param_rs_tuned_mlp__learning_rate': masked_array(data=[0.02, 0.03, 0.01, 0.02, 0.02, 0.03, 0.01, 0.01, 0.02,\n",
       "                    0.01],\n",
       "              mask=[False, False, False, False, False, False, False, False,\n",
       "                    False, False],\n",
       "        fill_value='?',\n",
       "             dtype=object),\n",
       " 'param_rs_tuned_mlp__input_units': masked_array(data=[64, 128, 128, 128, 64, 128, 64, 64, 256, 256],\n",
       "              mask=[False, False, False, False, False, False, False, False,\n",
       "                    False, False],\n",
       "        fill_value='?',\n",
       "             dtype=object),\n",
       " 'param_rs_tuned_mlp__input_activation': masked_array(data=['tanh', 'tanh', 'relu', 'relu', 'relu', 'relu', 'tanh',\n",
       "                    'tanh', 'tanh', 'relu'],\n",
       "              mask=[False, False, False, False, False, False, False, False,\n",
       "                    False, False],\n",
       "        fill_value='?',\n",
       "             dtype=object),\n",
       " 'param_rs_tuned_mlp__h2_units': masked_array(data=[256, 128, 128, 64, 256, 256, 128, 64, 64, 128],\n",
       "              mask=[False, False, False, False, False, False, False, False,\n",
       "                    False, False],\n",
       "        fill_value='?',\n",
       "             dtype=object),\n",
       " 'param_rs_tuned_mlp__h2_activation': masked_array(data=['tanh', 'tanh', 'relu', 'tanh', 'tanh', 'relu', 'tanh',\n",
       "                    'tanh', 'relu', 'tanh'],\n",
       "              mask=[False, False, False, False, False, False, False, False,\n",
       "                    False, False],\n",
       "        fill_value='?',\n",
       "             dtype=object),\n",
       " 'param_rs_tuned_mlp__h2': masked_array(data=[True, True, True, True, False, False, False, True,\n",
       "                    False, False],\n",
       "              mask=[False, False, False, False, False, False, False, False,\n",
       "                    False, False],\n",
       "        fill_value='?',\n",
       "             dtype=object),\n",
       " 'param_rs_tuned_mlp__h1_units': masked_array(data=[64, 256, 256, 128, 256, 128, 128, 128, 128, 256],\n",
       "              mask=[False, False, False, False, False, False, False, False,\n",
       "                    False, False],\n",
       "        fill_value='?',\n",
       "             dtype=object),\n",
       " 'param_rs_tuned_mlp__h1_activation': masked_array(data=['tanh', 'relu', 'relu', 'tanh', 'tanh', 'tanh', 'tanh',\n",
       "                    'tanh', 'tanh', 'relu'],\n",
       "              mask=[False, False, False, False, False, False, False, False,\n",
       "                    False, False],\n",
       "        fill_value='?',\n",
       "             dtype=object),\n",
       " 'param_rs_tuned_mlp__h1': masked_array(data=[True, True, True, False, False, True, False, False,\n",
       "                    False, False],\n",
       "              mask=[False, False, False, False, False, False, False, False,\n",
       "                    False, False],\n",
       "        fill_value='?',\n",
       "             dtype=object),\n",
       " 'param_rs_tuned_mlp__dropout_input_rate': masked_array(data=[0.5, 0.5, 0.5, 0.1, 0.5, 0.1, 0.3, 0.3, 0.1, 0.1],\n",
       "              mask=[False, False, False, False, False, False, False, False,\n",
       "                    False, False],\n",
       "        fill_value='?',\n",
       "             dtype=object),\n",
       " 'param_rs_tuned_mlp__dropout_input': masked_array(data=[False, True, True, False, True, True, True, True,\n",
       "                    False, False],\n",
       "              mask=[False, False, False, False, False, False, False, False,\n",
       "                    False, False],\n",
       "        fill_value='?',\n",
       "             dtype=object),\n",
       " 'param_rs_tuned_mlp__dropout_h2_rate': masked_array(data=[0.5, 0.5, 0.1, 0.5, 0.1, 0.3, 0.5, 0.5, 0.5, 0.1],\n",
       "              mask=[False, False, False, False, False, False, False, False,\n",
       "                    False, False],\n",
       "        fill_value='?',\n",
       "             dtype=object),\n",
       " 'param_rs_tuned_mlp__dropout_h2': masked_array(data=[False, True, True, False, True, True, False, False,\n",
       "                    True, True],\n",
       "              mask=[False, False, False, False, False, False, False, False,\n",
       "                    False, False],\n",
       "        fill_value='?',\n",
       "             dtype=object),\n",
       " 'param_rs_tuned_mlp__dropout_h1_rate': masked_array(data=[0.1, 0.5, 0.3, 0.5, 0.5, 0.5, 0.1, 0.5, 0.1, 0.3],\n",
       "              mask=[False, False, False, False, False, False, False, False,\n",
       "                    False, False],\n",
       "        fill_value='?',\n",
       "             dtype=object),\n",
       " 'param_rs_tuned_mlp__dropout_h1': masked_array(data=[True, False, True, True, True, False, True, False,\n",
       "                    True, True],\n",
       "              mask=[False, False, False, False, False, False, False, False,\n",
       "                    False, False],\n",
       "        fill_value='?',\n",
       "             dtype=object),\n",
       " 'params': [{'rs_tuned_mlp__learning_rate': 0.02,\n",
       "   'rs_tuned_mlp__input_units': 64,\n",
       "   'rs_tuned_mlp__input_activation': 'tanh',\n",
       "   'rs_tuned_mlp__h2_units': 256,\n",
       "   'rs_tuned_mlp__h2_activation': 'tanh',\n",
       "   'rs_tuned_mlp__h2': True,\n",
       "   'rs_tuned_mlp__h1_units': 64,\n",
       "   'rs_tuned_mlp__h1_activation': 'tanh',\n",
       "   'rs_tuned_mlp__h1': True,\n",
       "   'rs_tuned_mlp__dropout_input_rate': 0.5,\n",
       "   'rs_tuned_mlp__dropout_input': False,\n",
       "   'rs_tuned_mlp__dropout_h2_rate': 0.5,\n",
       "   'rs_tuned_mlp__dropout_h2': False,\n",
       "   'rs_tuned_mlp__dropout_h1_rate': 0.1,\n",
       "   'rs_tuned_mlp__dropout_h1': True},\n",
       "  {'rs_tuned_mlp__learning_rate': 0.03,\n",
       "   'rs_tuned_mlp__input_units': 128,\n",
       "   'rs_tuned_mlp__input_activation': 'tanh',\n",
       "   'rs_tuned_mlp__h2_units': 128,\n",
       "   'rs_tuned_mlp__h2_activation': 'tanh',\n",
       "   'rs_tuned_mlp__h2': True,\n",
       "   'rs_tuned_mlp__h1_units': 256,\n",
       "   'rs_tuned_mlp__h1_activation': 'relu',\n",
       "   'rs_tuned_mlp__h1': True,\n",
       "   'rs_tuned_mlp__dropout_input_rate': 0.5,\n",
       "   'rs_tuned_mlp__dropout_input': True,\n",
       "   'rs_tuned_mlp__dropout_h2_rate': 0.5,\n",
       "   'rs_tuned_mlp__dropout_h2': True,\n",
       "   'rs_tuned_mlp__dropout_h1_rate': 0.5,\n",
       "   'rs_tuned_mlp__dropout_h1': False},\n",
       "  {'rs_tuned_mlp__learning_rate': 0.01,\n",
       "   'rs_tuned_mlp__input_units': 128,\n",
       "   'rs_tuned_mlp__input_activation': 'relu',\n",
       "   'rs_tuned_mlp__h2_units': 128,\n",
       "   'rs_tuned_mlp__h2_activation': 'relu',\n",
       "   'rs_tuned_mlp__h2': True,\n",
       "   'rs_tuned_mlp__h1_units': 256,\n",
       "   'rs_tuned_mlp__h1_activation': 'relu',\n",
       "   'rs_tuned_mlp__h1': True,\n",
       "   'rs_tuned_mlp__dropout_input_rate': 0.5,\n",
       "   'rs_tuned_mlp__dropout_input': True,\n",
       "   'rs_tuned_mlp__dropout_h2_rate': 0.1,\n",
       "   'rs_tuned_mlp__dropout_h2': True,\n",
       "   'rs_tuned_mlp__dropout_h1_rate': 0.3,\n",
       "   'rs_tuned_mlp__dropout_h1': True},\n",
       "  {'rs_tuned_mlp__learning_rate': 0.02,\n",
       "   'rs_tuned_mlp__input_units': 128,\n",
       "   'rs_tuned_mlp__input_activation': 'relu',\n",
       "   'rs_tuned_mlp__h2_units': 64,\n",
       "   'rs_tuned_mlp__h2_activation': 'tanh',\n",
       "   'rs_tuned_mlp__h2': True,\n",
       "   'rs_tuned_mlp__h1_units': 128,\n",
       "   'rs_tuned_mlp__h1_activation': 'tanh',\n",
       "   'rs_tuned_mlp__h1': False,\n",
       "   'rs_tuned_mlp__dropout_input_rate': 0.1,\n",
       "   'rs_tuned_mlp__dropout_input': False,\n",
       "   'rs_tuned_mlp__dropout_h2_rate': 0.5,\n",
       "   'rs_tuned_mlp__dropout_h2': False,\n",
       "   'rs_tuned_mlp__dropout_h1_rate': 0.5,\n",
       "   'rs_tuned_mlp__dropout_h1': True},\n",
       "  {'rs_tuned_mlp__learning_rate': 0.02,\n",
       "   'rs_tuned_mlp__input_units': 64,\n",
       "   'rs_tuned_mlp__input_activation': 'relu',\n",
       "   'rs_tuned_mlp__h2_units': 256,\n",
       "   'rs_tuned_mlp__h2_activation': 'tanh',\n",
       "   'rs_tuned_mlp__h2': False,\n",
       "   'rs_tuned_mlp__h1_units': 256,\n",
       "   'rs_tuned_mlp__h1_activation': 'tanh',\n",
       "   'rs_tuned_mlp__h1': False,\n",
       "   'rs_tuned_mlp__dropout_input_rate': 0.5,\n",
       "   'rs_tuned_mlp__dropout_input': True,\n",
       "   'rs_tuned_mlp__dropout_h2_rate': 0.1,\n",
       "   'rs_tuned_mlp__dropout_h2': True,\n",
       "   'rs_tuned_mlp__dropout_h1_rate': 0.5,\n",
       "   'rs_tuned_mlp__dropout_h1': True},\n",
       "  {'rs_tuned_mlp__learning_rate': 0.03,\n",
       "   'rs_tuned_mlp__input_units': 128,\n",
       "   'rs_tuned_mlp__input_activation': 'relu',\n",
       "   'rs_tuned_mlp__h2_units': 256,\n",
       "   'rs_tuned_mlp__h2_activation': 'relu',\n",
       "   'rs_tuned_mlp__h2': False,\n",
       "   'rs_tuned_mlp__h1_units': 128,\n",
       "   'rs_tuned_mlp__h1_activation': 'tanh',\n",
       "   'rs_tuned_mlp__h1': True,\n",
       "   'rs_tuned_mlp__dropout_input_rate': 0.1,\n",
       "   'rs_tuned_mlp__dropout_input': True,\n",
       "   'rs_tuned_mlp__dropout_h2_rate': 0.3,\n",
       "   'rs_tuned_mlp__dropout_h2': True,\n",
       "   'rs_tuned_mlp__dropout_h1_rate': 0.5,\n",
       "   'rs_tuned_mlp__dropout_h1': False},\n",
       "  {'rs_tuned_mlp__learning_rate': 0.01,\n",
       "   'rs_tuned_mlp__input_units': 64,\n",
       "   'rs_tuned_mlp__input_activation': 'tanh',\n",
       "   'rs_tuned_mlp__h2_units': 128,\n",
       "   'rs_tuned_mlp__h2_activation': 'tanh',\n",
       "   'rs_tuned_mlp__h2': False,\n",
       "   'rs_tuned_mlp__h1_units': 128,\n",
       "   'rs_tuned_mlp__h1_activation': 'tanh',\n",
       "   'rs_tuned_mlp__h1': False,\n",
       "   'rs_tuned_mlp__dropout_input_rate': 0.3,\n",
       "   'rs_tuned_mlp__dropout_input': True,\n",
       "   'rs_tuned_mlp__dropout_h2_rate': 0.5,\n",
       "   'rs_tuned_mlp__dropout_h2': False,\n",
       "   'rs_tuned_mlp__dropout_h1_rate': 0.1,\n",
       "   'rs_tuned_mlp__dropout_h1': True},\n",
       "  {'rs_tuned_mlp__learning_rate': 0.01,\n",
       "   'rs_tuned_mlp__input_units': 64,\n",
       "   'rs_tuned_mlp__input_activation': 'tanh',\n",
       "   'rs_tuned_mlp__h2_units': 64,\n",
       "   'rs_tuned_mlp__h2_activation': 'tanh',\n",
       "   'rs_tuned_mlp__h2': True,\n",
       "   'rs_tuned_mlp__h1_units': 128,\n",
       "   'rs_tuned_mlp__h1_activation': 'tanh',\n",
       "   'rs_tuned_mlp__h1': False,\n",
       "   'rs_tuned_mlp__dropout_input_rate': 0.3,\n",
       "   'rs_tuned_mlp__dropout_input': True,\n",
       "   'rs_tuned_mlp__dropout_h2_rate': 0.5,\n",
       "   'rs_tuned_mlp__dropout_h2': False,\n",
       "   'rs_tuned_mlp__dropout_h1_rate': 0.5,\n",
       "   'rs_tuned_mlp__dropout_h1': False},\n",
       "  {'rs_tuned_mlp__learning_rate': 0.02,\n",
       "   'rs_tuned_mlp__input_units': 256,\n",
       "   'rs_tuned_mlp__input_activation': 'tanh',\n",
       "   'rs_tuned_mlp__h2_units': 64,\n",
       "   'rs_tuned_mlp__h2_activation': 'relu',\n",
       "   'rs_tuned_mlp__h2': False,\n",
       "   'rs_tuned_mlp__h1_units': 128,\n",
       "   'rs_tuned_mlp__h1_activation': 'tanh',\n",
       "   'rs_tuned_mlp__h1': False,\n",
       "   'rs_tuned_mlp__dropout_input_rate': 0.1,\n",
       "   'rs_tuned_mlp__dropout_input': False,\n",
       "   'rs_tuned_mlp__dropout_h2_rate': 0.5,\n",
       "   'rs_tuned_mlp__dropout_h2': True,\n",
       "   'rs_tuned_mlp__dropout_h1_rate': 0.1,\n",
       "   'rs_tuned_mlp__dropout_h1': True},\n",
       "  {'rs_tuned_mlp__learning_rate': 0.01,\n",
       "   'rs_tuned_mlp__input_units': 256,\n",
       "   'rs_tuned_mlp__input_activation': 'relu',\n",
       "   'rs_tuned_mlp__h2_units': 128,\n",
       "   'rs_tuned_mlp__h2_activation': 'tanh',\n",
       "   'rs_tuned_mlp__h2': False,\n",
       "   'rs_tuned_mlp__h1_units': 256,\n",
       "   'rs_tuned_mlp__h1_activation': 'relu',\n",
       "   'rs_tuned_mlp__h1': False,\n",
       "   'rs_tuned_mlp__dropout_input_rate': 0.1,\n",
       "   'rs_tuned_mlp__dropout_input': False,\n",
       "   'rs_tuned_mlp__dropout_h2_rate': 0.1,\n",
       "   'rs_tuned_mlp__dropout_h2': True,\n",
       "   'rs_tuned_mlp__dropout_h1_rate': 0.3,\n",
       "   'rs_tuned_mlp__dropout_h1': True}],\n",
       " 'split0_test_f1': array([0.9195304 , 0.91964837, 0.91888557, 0.92038262, 0.91917561,\n",
       "        0.91983082, 0.91811367, 0.91796745, 0.91950965, 0.91921159]),\n",
       " 'split1_test_f1': array([0.91916267, 0.91914974, 0.91880362, 0.92035567, 0.91877282,\n",
       "        0.91842155, 0.91810283, 0.91763479, 0.91943983, 0.91928592]),\n",
       " 'split2_test_f1': array([0.91828794, 0.91780107, 0.91711661, 0.91853679, 0.9173025 ,\n",
       "        0.91843416, 0.91615348, 0.91588874, 0.91789594, 0.91759128]),\n",
       " 'split3_test_f1': array([0.92141566, 0.92152477, 0.92059719, 0.92113775, 0.92048101,\n",
       "        0.92202228, 0.92025298, 0.91921397, 0.92178053, 0.92131943]),\n",
       " 'split4_test_f1': array([0.91839833, 0.91716789, 0.91702561, 0.91853679, 0.91633165,\n",
       "        0.91814778, 0.91635089, 0.9158622 , 0.91829569, 0.91825988]),\n",
       " 'mean_test_f1': array([0.919359  , 0.91905837, 0.91848572, 0.91978992, 0.91841272,\n",
       "        0.91937132, 0.91779477, 0.91731343, 0.91938433, 0.91913362]),\n",
       " 'std_test_f1': array([0.00112852, 0.00152278, 0.00132103, 0.001061  , 0.00145279,\n",
       "        0.00145025, 0.00148446, 0.00128677, 0.00135359, 0.0012609 ]),\n",
       " 'rank_test_f1': array([ 4,  6,  7,  1,  8,  3,  9, 10,  2,  5], dtype=int32),\n",
       " 'split0_test_precision': array([0.85269746, 0.85259912, 0.85106383, 0.85439124, 0.8517117 ,\n",
       "        0.8528375 , 0.85003953, 0.8499385 , 0.85243591, 0.85184859]),\n",
       " 'split1_test_precision': array([0.85138938, 0.85106757, 0.85002631, 0.8537403 , 0.85027207,\n",
       "        0.85011854, 0.85054539, 0.84921889, 0.85171504, 0.8516759 ]),\n",
       " 'split2_test_precision': array([0.85033834, 0.8495785 , 0.8478851 , 0.85046565, 0.84850079,\n",
       "        0.85043937, 0.84713097, 0.84712482, 0.84966632, 0.84914436]),\n",
       " 'split3_test_precision': array([0.85496116, 0.85537592, 0.8538543 , 0.85463372, 0.85350375,\n",
       "        0.85608204, 0.85363917, 0.85132759, 0.85589249, 0.85532479]),\n",
       " 'split4_test_precision': array([0.85030308, 0.84789842, 0.84735829, 0.85046565, 0.846174  ,\n",
       "        0.8493511 , 0.84724534, 0.84611349, 0.85027678, 0.85014055]),\n",
       " 'mean_test_precision': array([0.85193788, 0.85130391, 0.85003757, 0.85273931, 0.85003246,\n",
       "        0.85176571, 0.84972008, 0.84874466, 0.85199731, 0.85162684]),\n",
       " 'std_test_precision': array([0.00174637, 0.00256472, 0.00234232, 0.00187929, 0.00253617,\n",
       "        0.00245284, 0.00240709, 0.00189043, 0.0021835 , 0.00210229]),\n",
       " 'rank_test_precision': array([ 3,  6,  7,  1,  8,  4,  9, 10,  2,  5], dtype=int32),\n",
       " 'split0_test_recall': array([0.99773079, 0.99814337, 0.99845281, 0.99742135, 0.99824652,\n",
       "        0.99824652, 0.99804023, 0.99783394, 0.99804023, 0.99814337]),\n",
       " 'split1_test_recall': array([0.9986591 , 0.99907169, 0.99969056, 0.99824652, 0.99927798,\n",
       "        0.9986591 , 0.99731821, 0.99804023, 0.99886539, 0.99855596]),\n",
       " 'split2_test_recall': array([0.99804023, 0.99793708, 0.9986591 , 0.99845281, 0.99824652,\n",
       "        0.99824652, 0.99742135, 0.99680248, 0.99804023, 0.99804023]),\n",
       " 'split3_test_recall': array([0.99907159, 0.99876212, 0.99865896, 0.99886528, 0.99886528,\n",
       "        0.99896843, 0.99814318, 0.99886528, 0.99865896, 0.99834949]),\n",
       " 'split4_test_recall': array([0.99834966, 0.99876225, 0.99917483, 0.99845281, 0.99917483,\n",
       "        0.99907169, 0.99773079, 0.99814337, 0.99814337, 0.99824652]),\n",
       " 'mean_test_recall': array([0.99837027, 0.9985353 , 0.99892725, 0.99828775, 0.99876223,\n",
       "        0.99863845, 0.99773075, 0.99793706, 0.99834964, 0.99826711]),\n",
       " 'std_test_recall': array([0.00046767, 0.00042477, 0.00045009, 0.00047757, 0.00044244,\n",
       "        0.00034763, 0.00032613, 0.00066524, 0.00034517, 0.00017744]),\n",
       " 'rank_test_recall': array([ 5,  4,  1,  7,  2,  3, 10,  9,  6,  8], dtype=int32)}"
      ]
     },
     "execution_count": 11,
     "metadata": {},
     "output_type": "execute_result"
    }
   ],
   "source": [
    "random_search.cv_results_"
   ]
  },
  {
   "cell_type": "code",
   "execution_count": 21,
   "metadata": {},
   "outputs": [
    {
     "name": "stdout",
     "output_type": "stream",
     "text": [
      "\n",
      "RnadomSearchCV Cross-Validation Results:\n",
      "F1 Score: 0.9198 ± 0.0011\n",
      "Precision: 0.8527 ± 0.0019\n",
      "Recall: 0.9983 ± 0.0005\n"
     ]
    }
   ],
   "source": [
    "# Get the index of the best combination found by RandomizedSearchCV\n",
    "best_index = random_search.best_index_\n",
    "\n",
    "# Extract mean and std for each metric from the best estimator\n",
    "f1_mean = random_search.cv_results_['mean_test_f1'][best_index]\n",
    "f1_std = random_search.cv_results_['std_test_f1'][best_index]\n",
    "\n",
    "precision_mean = random_search.cv_results_['mean_test_precision'][best_index]\n",
    "precision_std = random_search.cv_results_['std_test_precision'][best_index]\n",
    "\n",
    "recall_mean = random_search.cv_results_['mean_test_recall'][best_index]\n",
    "recall_std = random_search.cv_results_['std_test_recall'][best_index]\n",
    "\n",
    "# Display results with mean ± std deviation format\n",
    "print(\"\\nRnadomSearchCV Cross-Validation Results:\")\n",
    "print(f\"F1 Score: {f1_mean:.4f} ± {f1_std:.4f}\")\n",
    "print(f\"Precision: {precision_mean:.4f} ± {precision_std:.4f}\")\n",
    "print(f\"Recall: {recall_mean:.4f} ± {recall_std:.4f}\")\n",
    "\n",
    "# create pipeline\n",
    "best_mlp_model_pipeline = Pipeline([\n",
    "    ('preprocessor', preprocessor),\n",
    "    (\"best_mlp\", best_mlp_model)\n",
    "])"
   ]
  },
  {
   "cell_type": "code",
   "execution_count": 22,
   "metadata": {},
   "outputs": [
    {
     "name": "stdout",
     "output_type": "stream",
     "text": [
      "5-fold cross-validation for MLP Normal:\n",
      "\n",
      "MLP Normal Cross-Validation Results:\n",
      "f1: 0.9195 ± 0.0015\n",
      "precision: 0.8521 ± 0.0027\n",
      "recall: 0.9986 ± 0.0004\n"
     ]
    }
   ],
   "source": [
    "# 5-fold cross-validation for MLP Normal\n",
    "print(f\"{CROSS_VAL_SPLITS}-fold cross-validation for MLP Normal:\")\n",
    "\n",
    "mlp_scores = cross_validate(\n",
    "    mlp_normal_pipeline, X_train, y_train, \n",
    "    cv=StratifiedKFold(n_splits=CROSS_VAL_SPLITS), scoring=scoring, n_jobs=-1\n",
    ")\n",
    "mlp_scores_df = pd.DataFrame(mlp_scores)\n",
    "\n",
    "# Print mean ± standard deviation of scores\n",
    "print(\"\\nMLP Normal Cross-Validation Results:\")\n",
    "for metric in scoring.keys():\n",
    "    mean_score = mlp_scores_df[f'test_{metric}'].mean()\n",
    "    std_score = mlp_scores_df[f'test_{metric}'].std()\n",
    "    print(f\"{metric}: {mean_score:.4f} ± {std_score:.4f}\")"
   ]
  },
  {
   "cell_type": "code",
   "execution_count": 31,
   "metadata": {},
   "outputs": [],
   "source": [
    "# RandomSearch tuned MLP reports better results than the MLP architure used in the creditcard notebook\n",
    "# So we will use the best model from RandomSearchCV for RandomOverSampler and SelfPacedEnsembleClassifier\n",
    "\n",
    "# Define RandOver pipeline\n",
    "mlp_randover_pipeline = imblearn_pipeline(\n",
    "    [\n",
    "       ('preprocessor', preprocessor),\n",
    "        (\"ros\", RandomOverSampler(random_state=RANDOM_STATE)),\n",
    "        (\"randover_mlp\", best_mlp_model),\n",
    "    ]\n",
    ")\n",
    "\n",
    "# Define SPE pipeline\n",
    "mlp_spe_pipeline = Pipeline(\n",
    "    [\n",
    "        ('preprocessor', preprocessor),\n",
    "        (\"spe_mlp\", SelfPacedEnsembleClassifier(random_state=RANDOM_STATE, estimator=best_mlp_model)),\n",
    "    ]\n",
    ")"
   ]
  },
  {
   "cell_type": "code",
   "execution_count": 30,
   "metadata": {},
   "outputs": [
    {
     "name": "stdout",
     "output_type": "stream",
     "text": [
      "\n",
      "5-fold cross-validation for MLP Random Oversampling:\n"
     ]
    },
    {
     "ename": "ValueError",
     "evalue": "\nAll the 5 fits failed.\nIt is very likely that your model is misconfigured.\nYou can try to debug the error by setting error_score='raise'.\n\nBelow are more details about the failures:\n--------------------------------------------------------------------------------\n5 fits failed with the following error:\nTraceback (most recent call last):\n  File \"/Users/i535223/devspace/venvs/ml/lib/python3.11/site-packages/sklearn/model_selection/_validation.py\", line 895, in _fit_and_score\n    estimator.fit(X_train, y_train, **fit_params)\n  File \"/Users/i535223/devspace/venvs/ml/lib/python3.11/site-packages/sklearn/base.py\", line 1474, in wrapper\n    return fit_method(estimator, *args, **kwargs)\n           ^^^^^^^^^^^^^^^^^^^^^^^^^^^^^^^^^^^^^^\n  File \"/Users/i535223/devspace/venvs/ml/lib/python3.11/site-packages/sklearn/pipeline.py\", line 471, in fit\n    Xt = self._fit(X, y, routed_params)\n         ^^^^^^^^^^^^^^^^^^^^^^^^^^^^^^\n  File \"/Users/i535223/devspace/venvs/ml/lib/python3.11/site-packages/sklearn/pipeline.py\", line 388, in _fit\n    self._validate_steps()\n  File \"/Users/i535223/devspace/venvs/ml/lib/python3.11/site-packages/sklearn/pipeline.py\", line 258, in _validate_steps\n    raise TypeError(\nTypeError: All intermediate steps should be transformers and implement fit and transform or be the string 'passthrough' 'RandomOverSampler(random_state=42)' (type <class 'imblearn.over_sampling._random_over_sampler.RandomOverSampler'>) doesn't\n",
     "output_type": "error",
     "traceback": [
      "\u001b[0;31m---------------------------------------------------------------------------\u001b[0m",
      "\u001b[0;31mValueError\u001b[0m                                Traceback (most recent call last)",
      "Cell \u001b[0;32mIn[30], line 8\u001b[0m\n\u001b[1;32m      6\u001b[0m \u001b[38;5;66;03m# 5-fold cross-validation for Random Oversampling\u001b[39;00m\n\u001b[1;32m      7\u001b[0m \u001b[38;5;28mprint\u001b[39m(\u001b[38;5;124mf\u001b[39m\u001b[38;5;124m\"\u001b[39m\u001b[38;5;130;01m\\n\u001b[39;00m\u001b[38;5;132;01m{\u001b[39;00mCROSS_VAL_SPLITS\u001b[38;5;132;01m}\u001b[39;00m\u001b[38;5;124m-fold cross-validation for MLP Random Oversampling:\u001b[39m\u001b[38;5;124m\"\u001b[39m)\n\u001b[0;32m----> 8\u001b[0m ros_mlp_scores \u001b[38;5;241m=\u001b[39m \u001b[43mcross_validate\u001b[49m\u001b[43m(\u001b[49m\n\u001b[1;32m      9\u001b[0m \u001b[43m    \u001b[49m\u001b[43mmlp_randover_pipeline\u001b[49m\u001b[43m,\u001b[49m\u001b[43m \u001b[49m\u001b[43mX_train_randover\u001b[49m\u001b[43m,\u001b[49m\u001b[43m \u001b[49m\u001b[43my_train\u001b[49m\u001b[43m,\u001b[49m\n\u001b[1;32m     10\u001b[0m \u001b[43m    \u001b[49m\u001b[43mcv\u001b[49m\u001b[38;5;241;43m=\u001b[39;49m\u001b[43mStratifiedKFold\u001b[49m\u001b[43m(\u001b[49m\u001b[43mn_splits\u001b[49m\u001b[38;5;241;43m=\u001b[39;49m\u001b[43mCROSS_VAL_SPLITS\u001b[49m\u001b[43m)\u001b[49m\u001b[43m,\u001b[49m\u001b[43m \u001b[49m\u001b[43mscoring\u001b[49m\u001b[38;5;241;43m=\u001b[39;49m\u001b[43mscoring\u001b[49m\u001b[43m,\u001b[49m\u001b[43m \u001b[49m\u001b[43mn_jobs\u001b[49m\u001b[38;5;241;43m=\u001b[39;49m\u001b[38;5;241;43m-\u001b[39;49m\u001b[38;5;241;43m1\u001b[39;49m\n\u001b[1;32m     11\u001b[0m \u001b[43m)\u001b[49m\n\u001b[1;32m     12\u001b[0m ros_mlp_scores_df \u001b[38;5;241m=\u001b[39m pd\u001b[38;5;241m.\u001b[39mDataFrame(ros_mlp_scores)\n\u001b[1;32m     14\u001b[0m \u001b[38;5;28mprint\u001b[39m(\u001b[38;5;124m\"\u001b[39m\u001b[38;5;130;01m\\n\u001b[39;00m\u001b[38;5;124mRandom Oversampling:\u001b[39m\u001b[38;5;124m\"\u001b[39m)\n",
      "File \u001b[0;32m~/devspace/venvs/ml/lib/python3.11/site-packages/sklearn/utils/_param_validation.py:213\u001b[0m, in \u001b[0;36mvalidate_params.<locals>.decorator.<locals>.wrapper\u001b[0;34m(*args, **kwargs)\u001b[0m\n\u001b[1;32m    207\u001b[0m \u001b[38;5;28;01mtry\u001b[39;00m:\n\u001b[1;32m    208\u001b[0m     \u001b[38;5;28;01mwith\u001b[39;00m config_context(\n\u001b[1;32m    209\u001b[0m         skip_parameter_validation\u001b[38;5;241m=\u001b[39m(\n\u001b[1;32m    210\u001b[0m             prefer_skip_nested_validation \u001b[38;5;129;01mor\u001b[39;00m global_skip_validation\n\u001b[1;32m    211\u001b[0m         )\n\u001b[1;32m    212\u001b[0m     ):\n\u001b[0;32m--> 213\u001b[0m         \u001b[38;5;28;01mreturn\u001b[39;00m \u001b[43mfunc\u001b[49m\u001b[43m(\u001b[49m\u001b[38;5;241;43m*\u001b[39;49m\u001b[43margs\u001b[49m\u001b[43m,\u001b[49m\u001b[43m \u001b[49m\u001b[38;5;241;43m*\u001b[39;49m\u001b[38;5;241;43m*\u001b[39;49m\u001b[43mkwargs\u001b[49m\u001b[43m)\u001b[49m\n\u001b[1;32m    214\u001b[0m \u001b[38;5;28;01mexcept\u001b[39;00m InvalidParameterError \u001b[38;5;28;01mas\u001b[39;00m e:\n\u001b[1;32m    215\u001b[0m     \u001b[38;5;66;03m# When the function is just a wrapper around an estimator, we allow\u001b[39;00m\n\u001b[1;32m    216\u001b[0m     \u001b[38;5;66;03m# the function to delegate validation to the estimator, but we replace\u001b[39;00m\n\u001b[1;32m    217\u001b[0m     \u001b[38;5;66;03m# the name of the estimator by the name of the function in the error\u001b[39;00m\n\u001b[1;32m    218\u001b[0m     \u001b[38;5;66;03m# message to avoid confusion.\u001b[39;00m\n\u001b[1;32m    219\u001b[0m     msg \u001b[38;5;241m=\u001b[39m re\u001b[38;5;241m.\u001b[39msub(\n\u001b[1;32m    220\u001b[0m         \u001b[38;5;124mr\u001b[39m\u001b[38;5;124m\"\u001b[39m\u001b[38;5;124mparameter of \u001b[39m\u001b[38;5;124m\\\u001b[39m\u001b[38;5;124mw+ must be\u001b[39m\u001b[38;5;124m\"\u001b[39m,\n\u001b[1;32m    221\u001b[0m         \u001b[38;5;124mf\u001b[39m\u001b[38;5;124m\"\u001b[39m\u001b[38;5;124mparameter of \u001b[39m\u001b[38;5;132;01m{\u001b[39;00mfunc\u001b[38;5;241m.\u001b[39m\u001b[38;5;18m__qualname__\u001b[39m\u001b[38;5;132;01m}\u001b[39;00m\u001b[38;5;124m must be\u001b[39m\u001b[38;5;124m\"\u001b[39m,\n\u001b[1;32m    222\u001b[0m         \u001b[38;5;28mstr\u001b[39m(e),\n\u001b[1;32m    223\u001b[0m     )\n",
      "File \u001b[0;32m~/devspace/venvs/ml/lib/python3.11/site-packages/sklearn/model_selection/_validation.py:450\u001b[0m, in \u001b[0;36mcross_validate\u001b[0;34m(estimator, X, y, groups, scoring, cv, n_jobs, verbose, fit_params, params, pre_dispatch, return_train_score, return_estimator, return_indices, error_score)\u001b[0m\n\u001b[1;32m    429\u001b[0m parallel \u001b[38;5;241m=\u001b[39m Parallel(n_jobs\u001b[38;5;241m=\u001b[39mn_jobs, verbose\u001b[38;5;241m=\u001b[39mverbose, pre_dispatch\u001b[38;5;241m=\u001b[39mpre_dispatch)\n\u001b[1;32m    430\u001b[0m results \u001b[38;5;241m=\u001b[39m parallel(\n\u001b[1;32m    431\u001b[0m     delayed(_fit_and_score)(\n\u001b[1;32m    432\u001b[0m         clone(estimator),\n\u001b[0;32m   (...)\u001b[0m\n\u001b[1;32m    447\u001b[0m     \u001b[38;5;28;01mfor\u001b[39;00m train, test \u001b[38;5;129;01min\u001b[39;00m indices\n\u001b[1;32m    448\u001b[0m )\n\u001b[0;32m--> 450\u001b[0m \u001b[43m_warn_or_raise_about_fit_failures\u001b[49m\u001b[43m(\u001b[49m\u001b[43mresults\u001b[49m\u001b[43m,\u001b[49m\u001b[43m \u001b[49m\u001b[43merror_score\u001b[49m\u001b[43m)\u001b[49m\n\u001b[1;32m    452\u001b[0m \u001b[38;5;66;03m# For callable scoring, the return type is only know after calling. If the\u001b[39;00m\n\u001b[1;32m    453\u001b[0m \u001b[38;5;66;03m# return type is a dictionary, the error scores can now be inserted with\u001b[39;00m\n\u001b[1;32m    454\u001b[0m \u001b[38;5;66;03m# the correct key.\u001b[39;00m\n\u001b[1;32m    455\u001b[0m \u001b[38;5;28;01mif\u001b[39;00m \u001b[38;5;28mcallable\u001b[39m(scoring):\n",
      "File \u001b[0;32m~/devspace/venvs/ml/lib/python3.11/site-packages/sklearn/model_selection/_validation.py:536\u001b[0m, in \u001b[0;36m_warn_or_raise_about_fit_failures\u001b[0;34m(results, error_score)\u001b[0m\n\u001b[1;32m    529\u001b[0m \u001b[38;5;28;01mif\u001b[39;00m num_failed_fits \u001b[38;5;241m==\u001b[39m num_fits:\n\u001b[1;32m    530\u001b[0m     all_fits_failed_message \u001b[38;5;241m=\u001b[39m (\n\u001b[1;32m    531\u001b[0m         \u001b[38;5;124mf\u001b[39m\u001b[38;5;124m\"\u001b[39m\u001b[38;5;130;01m\\n\u001b[39;00m\u001b[38;5;124mAll the \u001b[39m\u001b[38;5;132;01m{\u001b[39;00mnum_fits\u001b[38;5;132;01m}\u001b[39;00m\u001b[38;5;124m fits failed.\u001b[39m\u001b[38;5;130;01m\\n\u001b[39;00m\u001b[38;5;124m\"\u001b[39m\n\u001b[1;32m    532\u001b[0m         \u001b[38;5;124m\"\u001b[39m\u001b[38;5;124mIt is very likely that your model is misconfigured.\u001b[39m\u001b[38;5;130;01m\\n\u001b[39;00m\u001b[38;5;124m\"\u001b[39m\n\u001b[1;32m    533\u001b[0m         \u001b[38;5;124m\"\u001b[39m\u001b[38;5;124mYou can try to debug the error by setting error_score=\u001b[39m\u001b[38;5;124m'\u001b[39m\u001b[38;5;124mraise\u001b[39m\u001b[38;5;124m'\u001b[39m\u001b[38;5;124m.\u001b[39m\u001b[38;5;130;01m\\n\u001b[39;00m\u001b[38;5;130;01m\\n\u001b[39;00m\u001b[38;5;124m\"\u001b[39m\n\u001b[1;32m    534\u001b[0m         \u001b[38;5;124mf\u001b[39m\u001b[38;5;124m\"\u001b[39m\u001b[38;5;124mBelow are more details about the failures:\u001b[39m\u001b[38;5;130;01m\\n\u001b[39;00m\u001b[38;5;132;01m{\u001b[39;00mfit_errors_summary\u001b[38;5;132;01m}\u001b[39;00m\u001b[38;5;124m\"\u001b[39m\n\u001b[1;32m    535\u001b[0m     )\n\u001b[0;32m--> 536\u001b[0m     \u001b[38;5;28;01mraise\u001b[39;00m \u001b[38;5;167;01mValueError\u001b[39;00m(all_fits_failed_message)\n\u001b[1;32m    538\u001b[0m \u001b[38;5;28;01melse\u001b[39;00m:\n\u001b[1;32m    539\u001b[0m     some_fits_failed_message \u001b[38;5;241m=\u001b[39m (\n\u001b[1;32m    540\u001b[0m         \u001b[38;5;124mf\u001b[39m\u001b[38;5;124m\"\u001b[39m\u001b[38;5;130;01m\\n\u001b[39;00m\u001b[38;5;132;01m{\u001b[39;00mnum_failed_fits\u001b[38;5;132;01m}\u001b[39;00m\u001b[38;5;124m fits failed out of a total of \u001b[39m\u001b[38;5;132;01m{\u001b[39;00mnum_fits\u001b[38;5;132;01m}\u001b[39;00m\u001b[38;5;124m.\u001b[39m\u001b[38;5;130;01m\\n\u001b[39;00m\u001b[38;5;124m\"\u001b[39m\n\u001b[1;32m    541\u001b[0m         \u001b[38;5;124m\"\u001b[39m\u001b[38;5;124mThe score on these train-test partitions for these parameters\u001b[39m\u001b[38;5;124m\"\u001b[39m\n\u001b[0;32m   (...)\u001b[0m\n\u001b[1;32m    545\u001b[0m         \u001b[38;5;124mf\u001b[39m\u001b[38;5;124m\"\u001b[39m\u001b[38;5;124mBelow are more details about the failures:\u001b[39m\u001b[38;5;130;01m\\n\u001b[39;00m\u001b[38;5;132;01m{\u001b[39;00mfit_errors_summary\u001b[38;5;132;01m}\u001b[39;00m\u001b[38;5;124m\"\u001b[39m\n\u001b[1;32m    546\u001b[0m     )\n",
      "\u001b[0;31mValueError\u001b[0m: \nAll the 5 fits failed.\nIt is very likely that your model is misconfigured.\nYou can try to debug the error by setting error_score='raise'.\n\nBelow are more details about the failures:\n--------------------------------------------------------------------------------\n5 fits failed with the following error:\nTraceback (most recent call last):\n  File \"/Users/i535223/devspace/venvs/ml/lib/python3.11/site-packages/sklearn/model_selection/_validation.py\", line 895, in _fit_and_score\n    estimator.fit(X_train, y_train, **fit_params)\n  File \"/Users/i535223/devspace/venvs/ml/lib/python3.11/site-packages/sklearn/base.py\", line 1474, in wrapper\n    return fit_method(estimator, *args, **kwargs)\n           ^^^^^^^^^^^^^^^^^^^^^^^^^^^^^^^^^^^^^^\n  File \"/Users/i535223/devspace/venvs/ml/lib/python3.11/site-packages/sklearn/pipeline.py\", line 471, in fit\n    Xt = self._fit(X, y, routed_params)\n         ^^^^^^^^^^^^^^^^^^^^^^^^^^^^^^\n  File \"/Users/i535223/devspace/venvs/ml/lib/python3.11/site-packages/sklearn/pipeline.py\", line 388, in _fit\n    self._validate_steps()\n  File \"/Users/i535223/devspace/venvs/ml/lib/python3.11/site-packages/sklearn/pipeline.py\", line 258, in _validate_steps\n    raise TypeError(\nTypeError: All intermediate steps should be transformers and implement fit and transform or be the string 'passthrough' 'RandomOverSampler(random_state=42)' (type <class 'imblearn.over_sampling._random_over_sampler.RandomOverSampler'>) doesn't\n"
     ]
    }
   ],
   "source": [
    "# Convert X_train to a DataFrame, since RandomOverSampler \n",
    "X_train_randover = X_train\n",
    "if isinstance(X_train, np.ndarray):\n",
    "    X_train_randover = pd.DataFrame(X_train, columns=col_names) \n",
    "\n",
    "# 5-fold cross-validation for Random Oversampling\n",
    "print(f\"\\n{CROSS_VAL_SPLITS}-fold cross-validation for MLP Random Oversampling:\")\n",
    "ros_mlp_scores = cross_validate(\n",
    "    mlp_randover_pipeline, X_train_randover, y_train,\n",
    "    cv=StratifiedKFold(n_splits=CROSS_VAL_SPLITS), scoring=scoring, n_jobs=-1\n",
    ")\n",
    "ros_mlp_scores_df = pd.DataFrame(ros_mlp_scores)\n",
    "\n",
    "print(\"\\nRandom Oversampling:\")\n",
    "for metric in scoring.keys():\n",
    "    mean_score = ros_mlp_scores_df[f'test_{metric}'].mean()\n",
    "    std_score = ros_mlp_scores_df[f'test_{metric}'].std()\n",
    "    print(f\"{metric}: {mean_score:.4f} ± {std_score:.4f}\")"
   ]
  },
  {
   "cell_type": "code",
   "execution_count": 32,
   "metadata": {},
   "outputs": [
    {
     "name": "stdout",
     "output_type": "stream",
     "text": [
      "\n",
      "5-fold cross-validation for MLP Self-Paced Ensemble:\n"
     ]
    },
    {
     "ename": "ValueError",
     "evalue": "\nAll the 5 fits failed.\nIt is very likely that your model is misconfigured.\nYou can try to debug the error by setting error_score='raise'.\n\nBelow are more details about the failures:\n--------------------------------------------------------------------------------\n5 fits failed with the following error:\nTraceback (most recent call last):\n  File \"/Users/i535223/devspace/venvs/ml/lib/python3.11/site-packages/sklearn/utils/__init__.py\", line 482, in _get_column_indices\n    all_columns = X.columns\n                  ^^^^^^^^^\nAttributeError: 'numpy.ndarray' object has no attribute 'columns'\n\nDuring handling of the above exception, another exception occurred:\n\nTraceback (most recent call last):\n  File \"/Users/i535223/devspace/venvs/ml/lib/python3.11/site-packages/sklearn/model_selection/_validation.py\", line 895, in _fit_and_score\n    estimator.fit(X_train, y_train, **fit_params)\n  File \"/Users/i535223/devspace/venvs/ml/lib/python3.11/site-packages/sklearn/base.py\", line 1474, in wrapper\n    return fit_method(estimator, *args, **kwargs)\n           ^^^^^^^^^^^^^^^^^^^^^^^^^^^^^^^^^^^^^^\n  File \"/Users/i535223/devspace/venvs/ml/lib/python3.11/site-packages/sklearn/pipeline.py\", line 475, in fit\n    self._final_estimator.fit(Xt, y, **last_step_params[\"fit\"])\n  File \"/Users/i535223/devspace/venvs/ml/lib/python3.11/site-packages/imbens/utils/_validation.py\", line 604, in inner_f\n    return f(**kwargs)\n           ^^^^^^^^^^^\n  File \"/Users/i535223/devspace/venvs/ml/lib/python3.11/site-packages/imbens/ensemble/_under_sampling/self_paced_ensemble.py\", line 245, in fit\n    return super().fit(X, y, sample_weight=sample_weight, **kwargs)\n           ^^^^^^^^^^^^^^^^^^^^^^^^^^^^^^^^^^^^^^^^^^^^^^^^^^^^^^^^\n  File \"/Users/i535223/devspace/venvs/ml/lib/python3.11/site-packages/imbens/utils/_validation.py\", line 604, in inner_f\n    return f(**kwargs)\n           ^^^^^^^^^^^\n  File \"/Users/i535223/devspace/venvs/ml/lib/python3.11/site-packages/imbens/ensemble/base.py\", line 601, in fit\n    return self._fit(X, y, sample_weight=sample_weight, **kwargs)\n           ^^^^^^^^^^^^^^^^^^^^^^^^^^^^^^^^^^^^^^^^^^^^^^^^^^^^^^\n  File \"/Users/i535223/devspace/venvs/ml/lib/python3.11/site-packages/imbens/utils/_validation.py\", line 604, in inner_f\n    return f(**kwargs)\n           ^^^^^^^^^^^\n  File \"/Users/i535223/devspace/venvs/ml/lib/python3.11/site-packages/imbens/ensemble/_under_sampling/self_paced_ensemble.py\", line 368, in _fit\n    estimator.fit(X_resampled, y_resampled)\n  File \"/Users/i535223/devspace/venvs/ml/lib/python3.11/site-packages/sklearn/base.py\", line 1474, in wrapper\n    return fit_method(estimator, *args, **kwargs)\n           ^^^^^^^^^^^^^^^^^^^^^^^^^^^^^^^^^^^^^^\n  File \"/Users/i535223/devspace/venvs/ml/lib/python3.11/site-packages/sklearn/pipeline.py\", line 471, in fit\n    Xt = self._fit(X, y, routed_params)\n         ^^^^^^^^^^^^^^^^^^^^^^^^^^^^^^\n  File \"/Users/i535223/devspace/venvs/ml/lib/python3.11/site-packages/sklearn/pipeline.py\", line 408, in _fit\n    X, fitted_transformer = fit_transform_one_cached(\n                            ^^^^^^^^^^^^^^^^^^^^^^^^^\n  File \"/Users/i535223/devspace/venvs/ml/lib/python3.11/site-packages/joblib/memory.py\", line 312, in __call__\n    return self.func(*args, **kwargs)\n           ^^^^^^^^^^^^^^^^^^^^^^^^^^\n  File \"/Users/i535223/devspace/venvs/ml/lib/python3.11/site-packages/sklearn/pipeline.py\", line 1303, in _fit_transform_one\n    res = transformer.fit_transform(X, y, **params.get(\"fit_transform\", {}))\n          ^^^^^^^^^^^^^^^^^^^^^^^^^^^^^^^^^^^^^^^^^^^^^^^^^^^^^^^^^^^^^^^^^^\n  File \"/Users/i535223/devspace/venvs/ml/lib/python3.11/site-packages/sklearn/utils/_set_output.py\", line 295, in wrapped\n    data_to_wrap = f(self, X, *args, **kwargs)\n                   ^^^^^^^^^^^^^^^^^^^^^^^^^^^\n  File \"/Users/i535223/devspace/venvs/ml/lib/python3.11/site-packages/sklearn/base.py\", line 1474, in wrapper\n    return fit_method(estimator, *args, **kwargs)\n           ^^^^^^^^^^^^^^^^^^^^^^^^^^^^^^^^^^^^^^\n  File \"/Users/i535223/devspace/venvs/ml/lib/python3.11/site-packages/sklearn/compose/_column_transformer.py\", line 906, in fit_transform\n    self._validate_column_callables(X)\n  File \"/Users/i535223/devspace/venvs/ml/lib/python3.11/site-packages/sklearn/compose/_column_transformer.py\", line 496, in _validate_column_callables\n    transformer_to_input_indices[name] = _get_column_indices(X, columns)\n                                         ^^^^^^^^^^^^^^^^^^^^^^^^^^^^^^^\n  File \"/Users/i535223/devspace/venvs/ml/lib/python3.11/site-packages/sklearn/utils/__init__.py\", line 484, in _get_column_indices\n    raise ValueError(\nValueError: Specifying the columns using strings is only supported for dataframes.\n",
     "output_type": "error",
     "traceback": [
      "\u001b[0;31m---------------------------------------------------------------------------\u001b[0m",
      "\u001b[0;31mValueError\u001b[0m                                Traceback (most recent call last)",
      "Cell \u001b[0;32mIn[32], line 9\u001b[0m\n\u001b[1;32m      6\u001b[0m     X_train_spe \u001b[38;5;241m=\u001b[39m pd\u001b[38;5;241m.\u001b[39mDataFrame(X_train, columns\u001b[38;5;241m=\u001b[39mcol_names) \n\u001b[1;32m      8\u001b[0m \u001b[38;5;28mprint\u001b[39m(\u001b[38;5;124mf\u001b[39m\u001b[38;5;124m\"\u001b[39m\u001b[38;5;130;01m\\n\u001b[39;00m\u001b[38;5;132;01m{\u001b[39;00mCROSS_VAL_SPLITS\u001b[38;5;132;01m}\u001b[39;00m\u001b[38;5;124m-fold cross-validation for MLP Self-Paced Ensemble:\u001b[39m\u001b[38;5;124m\"\u001b[39m)\n\u001b[0;32m----> 9\u001b[0m spe_mlp_scores \u001b[38;5;241m=\u001b[39m \u001b[43mcross_validate\u001b[49m\u001b[43m(\u001b[49m\n\u001b[1;32m     10\u001b[0m \u001b[43m    \u001b[49m\u001b[43mmlp_spe_pipeline\u001b[49m\u001b[43m,\u001b[49m\u001b[43m \u001b[49m\u001b[43mX_train_spe\u001b[49m\u001b[43m,\u001b[49m\u001b[43m \u001b[49m\u001b[43my_train\u001b[49m\u001b[43m,\u001b[49m\u001b[43m \u001b[49m\n\u001b[1;32m     11\u001b[0m \u001b[43m    \u001b[49m\u001b[43mcv\u001b[49m\u001b[38;5;241;43m=\u001b[39;49m\u001b[43mStratifiedKFold\u001b[49m\u001b[43m(\u001b[49m\u001b[43mn_splits\u001b[49m\u001b[38;5;241;43m=\u001b[39;49m\u001b[43mCROSS_VAL_SPLITS\u001b[49m\u001b[43m)\u001b[49m\u001b[43m,\u001b[49m\u001b[43m \u001b[49m\u001b[43mscoring\u001b[49m\u001b[38;5;241;43m=\u001b[39;49m\u001b[43mscoring\u001b[49m\u001b[43m,\u001b[49m\u001b[43m \u001b[49m\u001b[43mn_jobs\u001b[49m\u001b[38;5;241;43m=\u001b[39;49m\u001b[38;5;241;43m-\u001b[39;49m\u001b[38;5;241;43m1\u001b[39;49m\n\u001b[1;32m     12\u001b[0m \u001b[43m)\u001b[49m\n\u001b[1;32m     13\u001b[0m spe_mlp_scores_df \u001b[38;5;241m=\u001b[39m pd\u001b[38;5;241m.\u001b[39mDataFrame(spe_mlp_scores)\n\u001b[1;32m     15\u001b[0m \u001b[38;5;28mprint\u001b[39m(\u001b[38;5;124m\"\u001b[39m\u001b[38;5;130;01m\\n\u001b[39;00m\u001b[38;5;124mSelf-Paced Ensemble:\u001b[39m\u001b[38;5;124m\"\u001b[39m)\n",
      "File \u001b[0;32m~/devspace/venvs/ml/lib/python3.11/site-packages/sklearn/utils/_param_validation.py:213\u001b[0m, in \u001b[0;36mvalidate_params.<locals>.decorator.<locals>.wrapper\u001b[0;34m(*args, **kwargs)\u001b[0m\n\u001b[1;32m    207\u001b[0m \u001b[38;5;28;01mtry\u001b[39;00m:\n\u001b[1;32m    208\u001b[0m     \u001b[38;5;28;01mwith\u001b[39;00m config_context(\n\u001b[1;32m    209\u001b[0m         skip_parameter_validation\u001b[38;5;241m=\u001b[39m(\n\u001b[1;32m    210\u001b[0m             prefer_skip_nested_validation \u001b[38;5;129;01mor\u001b[39;00m global_skip_validation\n\u001b[1;32m    211\u001b[0m         )\n\u001b[1;32m    212\u001b[0m     ):\n\u001b[0;32m--> 213\u001b[0m         \u001b[38;5;28;01mreturn\u001b[39;00m \u001b[43mfunc\u001b[49m\u001b[43m(\u001b[49m\u001b[38;5;241;43m*\u001b[39;49m\u001b[43margs\u001b[49m\u001b[43m,\u001b[49m\u001b[43m \u001b[49m\u001b[38;5;241;43m*\u001b[39;49m\u001b[38;5;241;43m*\u001b[39;49m\u001b[43mkwargs\u001b[49m\u001b[43m)\u001b[49m\n\u001b[1;32m    214\u001b[0m \u001b[38;5;28;01mexcept\u001b[39;00m InvalidParameterError \u001b[38;5;28;01mas\u001b[39;00m e:\n\u001b[1;32m    215\u001b[0m     \u001b[38;5;66;03m# When the function is just a wrapper around an estimator, we allow\u001b[39;00m\n\u001b[1;32m    216\u001b[0m     \u001b[38;5;66;03m# the function to delegate validation to the estimator, but we replace\u001b[39;00m\n\u001b[1;32m    217\u001b[0m     \u001b[38;5;66;03m# the name of the estimator by the name of the function in the error\u001b[39;00m\n\u001b[1;32m    218\u001b[0m     \u001b[38;5;66;03m# message to avoid confusion.\u001b[39;00m\n\u001b[1;32m    219\u001b[0m     msg \u001b[38;5;241m=\u001b[39m re\u001b[38;5;241m.\u001b[39msub(\n\u001b[1;32m    220\u001b[0m         \u001b[38;5;124mr\u001b[39m\u001b[38;5;124m\"\u001b[39m\u001b[38;5;124mparameter of \u001b[39m\u001b[38;5;124m\\\u001b[39m\u001b[38;5;124mw+ must be\u001b[39m\u001b[38;5;124m\"\u001b[39m,\n\u001b[1;32m    221\u001b[0m         \u001b[38;5;124mf\u001b[39m\u001b[38;5;124m\"\u001b[39m\u001b[38;5;124mparameter of \u001b[39m\u001b[38;5;132;01m{\u001b[39;00mfunc\u001b[38;5;241m.\u001b[39m\u001b[38;5;18m__qualname__\u001b[39m\u001b[38;5;132;01m}\u001b[39;00m\u001b[38;5;124m must be\u001b[39m\u001b[38;5;124m\"\u001b[39m,\n\u001b[1;32m    222\u001b[0m         \u001b[38;5;28mstr\u001b[39m(e),\n\u001b[1;32m    223\u001b[0m     )\n",
      "File \u001b[0;32m~/devspace/venvs/ml/lib/python3.11/site-packages/sklearn/model_selection/_validation.py:450\u001b[0m, in \u001b[0;36mcross_validate\u001b[0;34m(estimator, X, y, groups, scoring, cv, n_jobs, verbose, fit_params, params, pre_dispatch, return_train_score, return_estimator, return_indices, error_score)\u001b[0m\n\u001b[1;32m    429\u001b[0m parallel \u001b[38;5;241m=\u001b[39m Parallel(n_jobs\u001b[38;5;241m=\u001b[39mn_jobs, verbose\u001b[38;5;241m=\u001b[39mverbose, pre_dispatch\u001b[38;5;241m=\u001b[39mpre_dispatch)\n\u001b[1;32m    430\u001b[0m results \u001b[38;5;241m=\u001b[39m parallel(\n\u001b[1;32m    431\u001b[0m     delayed(_fit_and_score)(\n\u001b[1;32m    432\u001b[0m         clone(estimator),\n\u001b[0;32m   (...)\u001b[0m\n\u001b[1;32m    447\u001b[0m     \u001b[38;5;28;01mfor\u001b[39;00m train, test \u001b[38;5;129;01min\u001b[39;00m indices\n\u001b[1;32m    448\u001b[0m )\n\u001b[0;32m--> 450\u001b[0m \u001b[43m_warn_or_raise_about_fit_failures\u001b[49m\u001b[43m(\u001b[49m\u001b[43mresults\u001b[49m\u001b[43m,\u001b[49m\u001b[43m \u001b[49m\u001b[43merror_score\u001b[49m\u001b[43m)\u001b[49m\n\u001b[1;32m    452\u001b[0m \u001b[38;5;66;03m# For callable scoring, the return type is only know after calling. If the\u001b[39;00m\n\u001b[1;32m    453\u001b[0m \u001b[38;5;66;03m# return type is a dictionary, the error scores can now be inserted with\u001b[39;00m\n\u001b[1;32m    454\u001b[0m \u001b[38;5;66;03m# the correct key.\u001b[39;00m\n\u001b[1;32m    455\u001b[0m \u001b[38;5;28;01mif\u001b[39;00m \u001b[38;5;28mcallable\u001b[39m(scoring):\n",
      "File \u001b[0;32m~/devspace/venvs/ml/lib/python3.11/site-packages/sklearn/model_selection/_validation.py:536\u001b[0m, in \u001b[0;36m_warn_or_raise_about_fit_failures\u001b[0;34m(results, error_score)\u001b[0m\n\u001b[1;32m    529\u001b[0m \u001b[38;5;28;01mif\u001b[39;00m num_failed_fits \u001b[38;5;241m==\u001b[39m num_fits:\n\u001b[1;32m    530\u001b[0m     all_fits_failed_message \u001b[38;5;241m=\u001b[39m (\n\u001b[1;32m    531\u001b[0m         \u001b[38;5;124mf\u001b[39m\u001b[38;5;124m\"\u001b[39m\u001b[38;5;130;01m\\n\u001b[39;00m\u001b[38;5;124mAll the \u001b[39m\u001b[38;5;132;01m{\u001b[39;00mnum_fits\u001b[38;5;132;01m}\u001b[39;00m\u001b[38;5;124m fits failed.\u001b[39m\u001b[38;5;130;01m\\n\u001b[39;00m\u001b[38;5;124m\"\u001b[39m\n\u001b[1;32m    532\u001b[0m         \u001b[38;5;124m\"\u001b[39m\u001b[38;5;124mIt is very likely that your model is misconfigured.\u001b[39m\u001b[38;5;130;01m\\n\u001b[39;00m\u001b[38;5;124m\"\u001b[39m\n\u001b[1;32m    533\u001b[0m         \u001b[38;5;124m\"\u001b[39m\u001b[38;5;124mYou can try to debug the error by setting error_score=\u001b[39m\u001b[38;5;124m'\u001b[39m\u001b[38;5;124mraise\u001b[39m\u001b[38;5;124m'\u001b[39m\u001b[38;5;124m.\u001b[39m\u001b[38;5;130;01m\\n\u001b[39;00m\u001b[38;5;130;01m\\n\u001b[39;00m\u001b[38;5;124m\"\u001b[39m\n\u001b[1;32m    534\u001b[0m         \u001b[38;5;124mf\u001b[39m\u001b[38;5;124m\"\u001b[39m\u001b[38;5;124mBelow are more details about the failures:\u001b[39m\u001b[38;5;130;01m\\n\u001b[39;00m\u001b[38;5;132;01m{\u001b[39;00mfit_errors_summary\u001b[38;5;132;01m}\u001b[39;00m\u001b[38;5;124m\"\u001b[39m\n\u001b[1;32m    535\u001b[0m     )\n\u001b[0;32m--> 536\u001b[0m     \u001b[38;5;28;01mraise\u001b[39;00m \u001b[38;5;167;01mValueError\u001b[39;00m(all_fits_failed_message)\n\u001b[1;32m    538\u001b[0m \u001b[38;5;28;01melse\u001b[39;00m:\n\u001b[1;32m    539\u001b[0m     some_fits_failed_message \u001b[38;5;241m=\u001b[39m (\n\u001b[1;32m    540\u001b[0m         \u001b[38;5;124mf\u001b[39m\u001b[38;5;124m\"\u001b[39m\u001b[38;5;130;01m\\n\u001b[39;00m\u001b[38;5;132;01m{\u001b[39;00mnum_failed_fits\u001b[38;5;132;01m}\u001b[39;00m\u001b[38;5;124m fits failed out of a total of \u001b[39m\u001b[38;5;132;01m{\u001b[39;00mnum_fits\u001b[38;5;132;01m}\u001b[39;00m\u001b[38;5;124m.\u001b[39m\u001b[38;5;130;01m\\n\u001b[39;00m\u001b[38;5;124m\"\u001b[39m\n\u001b[1;32m    541\u001b[0m         \u001b[38;5;124m\"\u001b[39m\u001b[38;5;124mThe score on these train-test partitions for these parameters\u001b[39m\u001b[38;5;124m\"\u001b[39m\n\u001b[0;32m   (...)\u001b[0m\n\u001b[1;32m    545\u001b[0m         \u001b[38;5;124mf\u001b[39m\u001b[38;5;124m\"\u001b[39m\u001b[38;5;124mBelow are more details about the failures:\u001b[39m\u001b[38;5;130;01m\\n\u001b[39;00m\u001b[38;5;132;01m{\u001b[39;00mfit_errors_summary\u001b[38;5;132;01m}\u001b[39;00m\u001b[38;5;124m\"\u001b[39m\n\u001b[1;32m    546\u001b[0m     )\n",
      "\u001b[0;31mValueError\u001b[0m: \nAll the 5 fits failed.\nIt is very likely that your model is misconfigured.\nYou can try to debug the error by setting error_score='raise'.\n\nBelow are more details about the failures:\n--------------------------------------------------------------------------------\n5 fits failed with the following error:\nTraceback (most recent call last):\n  File \"/Users/i535223/devspace/venvs/ml/lib/python3.11/site-packages/sklearn/utils/__init__.py\", line 482, in _get_column_indices\n    all_columns = X.columns\n                  ^^^^^^^^^\nAttributeError: 'numpy.ndarray' object has no attribute 'columns'\n\nDuring handling of the above exception, another exception occurred:\n\nTraceback (most recent call last):\n  File \"/Users/i535223/devspace/venvs/ml/lib/python3.11/site-packages/sklearn/model_selection/_validation.py\", line 895, in _fit_and_score\n    estimator.fit(X_train, y_train, **fit_params)\n  File \"/Users/i535223/devspace/venvs/ml/lib/python3.11/site-packages/sklearn/base.py\", line 1474, in wrapper\n    return fit_method(estimator, *args, **kwargs)\n           ^^^^^^^^^^^^^^^^^^^^^^^^^^^^^^^^^^^^^^\n  File \"/Users/i535223/devspace/venvs/ml/lib/python3.11/site-packages/sklearn/pipeline.py\", line 475, in fit\n    self._final_estimator.fit(Xt, y, **last_step_params[\"fit\"])\n  File \"/Users/i535223/devspace/venvs/ml/lib/python3.11/site-packages/imbens/utils/_validation.py\", line 604, in inner_f\n    return f(**kwargs)\n           ^^^^^^^^^^^\n  File \"/Users/i535223/devspace/venvs/ml/lib/python3.11/site-packages/imbens/ensemble/_under_sampling/self_paced_ensemble.py\", line 245, in fit\n    return super().fit(X, y, sample_weight=sample_weight, **kwargs)\n           ^^^^^^^^^^^^^^^^^^^^^^^^^^^^^^^^^^^^^^^^^^^^^^^^^^^^^^^^\n  File \"/Users/i535223/devspace/venvs/ml/lib/python3.11/site-packages/imbens/utils/_validation.py\", line 604, in inner_f\n    return f(**kwargs)\n           ^^^^^^^^^^^\n  File \"/Users/i535223/devspace/venvs/ml/lib/python3.11/site-packages/imbens/ensemble/base.py\", line 601, in fit\n    return self._fit(X, y, sample_weight=sample_weight, **kwargs)\n           ^^^^^^^^^^^^^^^^^^^^^^^^^^^^^^^^^^^^^^^^^^^^^^^^^^^^^^\n  File \"/Users/i535223/devspace/venvs/ml/lib/python3.11/site-packages/imbens/utils/_validation.py\", line 604, in inner_f\n    return f(**kwargs)\n           ^^^^^^^^^^^\n  File \"/Users/i535223/devspace/venvs/ml/lib/python3.11/site-packages/imbens/ensemble/_under_sampling/self_paced_ensemble.py\", line 368, in _fit\n    estimator.fit(X_resampled, y_resampled)\n  File \"/Users/i535223/devspace/venvs/ml/lib/python3.11/site-packages/sklearn/base.py\", line 1474, in wrapper\n    return fit_method(estimator, *args, **kwargs)\n           ^^^^^^^^^^^^^^^^^^^^^^^^^^^^^^^^^^^^^^\n  File \"/Users/i535223/devspace/venvs/ml/lib/python3.11/site-packages/sklearn/pipeline.py\", line 471, in fit\n    Xt = self._fit(X, y, routed_params)\n         ^^^^^^^^^^^^^^^^^^^^^^^^^^^^^^\n  File \"/Users/i535223/devspace/venvs/ml/lib/python3.11/site-packages/sklearn/pipeline.py\", line 408, in _fit\n    X, fitted_transformer = fit_transform_one_cached(\n                            ^^^^^^^^^^^^^^^^^^^^^^^^^\n  File \"/Users/i535223/devspace/venvs/ml/lib/python3.11/site-packages/joblib/memory.py\", line 312, in __call__\n    return self.func(*args, **kwargs)\n           ^^^^^^^^^^^^^^^^^^^^^^^^^^\n  File \"/Users/i535223/devspace/venvs/ml/lib/python3.11/site-packages/sklearn/pipeline.py\", line 1303, in _fit_transform_one\n    res = transformer.fit_transform(X, y, **params.get(\"fit_transform\", {}))\n          ^^^^^^^^^^^^^^^^^^^^^^^^^^^^^^^^^^^^^^^^^^^^^^^^^^^^^^^^^^^^^^^^^^\n  File \"/Users/i535223/devspace/venvs/ml/lib/python3.11/site-packages/sklearn/utils/_set_output.py\", line 295, in wrapped\n    data_to_wrap = f(self, X, *args, **kwargs)\n                   ^^^^^^^^^^^^^^^^^^^^^^^^^^^\n  File \"/Users/i535223/devspace/venvs/ml/lib/python3.11/site-packages/sklearn/base.py\", line 1474, in wrapper\n    return fit_method(estimator, *args, **kwargs)\n           ^^^^^^^^^^^^^^^^^^^^^^^^^^^^^^^^^^^^^^\n  File \"/Users/i535223/devspace/venvs/ml/lib/python3.11/site-packages/sklearn/compose/_column_transformer.py\", line 906, in fit_transform\n    self._validate_column_callables(X)\n  File \"/Users/i535223/devspace/venvs/ml/lib/python3.11/site-packages/sklearn/compose/_column_transformer.py\", line 496, in _validate_column_callables\n    transformer_to_input_indices[name] = _get_column_indices(X, columns)\n                                         ^^^^^^^^^^^^^^^^^^^^^^^^^^^^^^^\n  File \"/Users/i535223/devspace/venvs/ml/lib/python3.11/site-packages/sklearn/utils/__init__.py\", line 484, in _get_column_indices\n    raise ValueError(\nValueError: Specifying the columns using strings is only supported for dataframes.\n"
     ]
    }
   ],
   "source": [
    "# 5-fold cross-validation for Self-Paced Ensemble\n",
    "\n",
    "# Convert X_train to a DataFrame, since RandomOverSampler \n",
    "X_train_spe = X_train\n",
    "if isinstance(X_train, np.ndarray):\n",
    "    X_train_spe = pd.DataFrame(X_train, columns=col_names) \n",
    "\n",
    "print(f\"\\n{CROSS_VAL_SPLITS}-fold cross-validation for MLP Self-Paced Ensemble:\")\n",
    "spe_mlp_scores = cross_validate(\n",
    "    mlp_spe_pipeline, X_train_spe, y_train, \n",
    "    cv=StratifiedKFold(n_splits=CROSS_VAL_SPLITS), scoring=scoring, n_jobs=-1\n",
    ")\n",
    "spe_mlp_scores_df = pd.DataFrame(spe_mlp_scores)\n",
    "\n",
    "print(\"\\nSelf-Paced Ensemble:\")\n",
    "for metric in scoring.keys():\n",
    "    mean_score = spe_mlp_scores_df[f'test_{metric}'].mean()\n",
    "    std_score = spe_mlp_scores_df[f'test_{metric}'].std()\n",
    "    print(f\"{metric}: {mean_score:.4f} ± {std_score:.4f}\")"
   ]
  },
  {
   "cell_type": "markdown",
   "metadata": {},
   "source": [
    "### 4. (Re)Train the models on the training data"
   ]
  },
  {
   "cell_type": "code",
   "execution_count": null,
   "metadata": {},
   "outputs": [],
   "source": [
    "# Placeholder dictionary for training times\n",
    "training_times = {}\n",
    "\n",
    "# Retrain and time each model\n",
    "\n",
    "# Train MLP Normal (optional)\n",
    "start_time = time()\n",
    "mlp_normal_pipeline.fit(X_train, y_train)\n",
    "training_times['MLP Normal'] = time() - start_time\n",
    "\n",
    "# Train best MLP model (from RandomSearchCV)\n",
    "start_time = time()\n",
    "best_mlp_model_pipeline.fit(X_train, y_train)\n",
    "training_times['Best MLP (RandomSearchCV)'] = time() - start_time\n",
    "\n",
    "# Train SPE MLP\n",
    "start_time = time()\n",
    "mlp_spe_pipeline.fit(X_train, y_train)\n",
    "training_times['SPE MLP'] = time() - start_time\n",
    "\n",
    "# Train Random Oversampling MLP\n",
    "start_time = time()\n",
    "mlp_randover_pipeline.fit(X_train, y_train)\n",
    "training_times['Random Oversampling MLP'] = time() - start_time\n",
    "\n",
    "# Report training times\n",
    "print(\"Training Times for Each Model (in seconds):\")\n",
    "for model_name, training_time in training_times.items():\n",
    "    print(f\"{model_name}: {training_time:.2f} seconds\")"
   ]
  },
  {
   "cell_type": "markdown",
   "metadata": {},
   "source": [
    "### 5. Final evaluation of the models"
   ]
  },
  {
   "cell_type": "code",
   "execution_count": null,
   "metadata": {},
   "outputs": [],
   "source": [
    "# evaluate each model on test set on f1, prec, recall and plot confusion matrix for each\n",
    "\n",
    "# MLP Normal\n",
    "y_test_pred = mlp_normal_pipeline.predict(X_test)\n",
    "print(\"\\nMLP Normal\")\n",
    "print(f\"F-1 Score: {f1_score(y_test, y_test_pred):.4f}\")\n",
    "print(f\"Precision: {precision_score(y_test, y_test_pred):.4f}\")\n",
    "print(f\"Recall: {recall_score(y_test, y_test_pred):.4f}\")\n",
    "\n",
    "# Best MLP model (RandomSearchCV)\n",
    "y_test_pred = best_mlp_model.predict(X_test)\n",
    "print(\"\\nBest MLP Model (RandomSearchCV)\")\n",
    "print(f\"F-1 Score: {f1_score(y_test, y_test_pred):.4f}\")\n",
    "print(f\"Precision: {precision_score(y_test, y_test_pred):.4f}\")\n",
    "print(f\"Recall: {recall_score(y_test, y_test_pred):.4f}\")\n",
    "\n",
    "# SPE MLP\n",
    "y_test_pred = mlp_spe_pipeline.predict(X_test)\n",
    "print(\"\\nSPE MLP\")\n",
    "print(f\"F-1 Score: {f1_score(y_test, y_test_pred):.4f}\")\n",
    "print(f\"Precision: {precision_score(y_test, y_test_pred):.4f}\")\n",
    "print(f\"Recall: {recall_score(y_test, y_test_pred):.4f}\")\n",
    "\n",
    "# Random Oversampling MLP\n",
    "y_test_pred = mlp_randover_pipeline.predict(X_test)\n",
    "print(\"\\nRandOver MLP\")\n",
    "print(f\"F-1 Score: {f1_score(y_test, y_test_pred):.4f}\")\n",
    "print(f\"Precision: {precision_score(y_test, y_test_pred):.4f}\")\n",
    "print(f\"Recall: {recall_score(y_test, y_test_pred):.4f}\")\n",
    "\n",
    "# Plot confusion matrix for each model\n",
    "fig, axs = plt.subplots(1, 4, figsize=(15, 5))\n",
    "fig.suptitle(\"Confusion Matrices\")\n",
    "for i, model in enumerate([mlp_normal_pipeline, best_mlp_model, mlp_spe_pipeline, mlp_randover_pipeline]):\n",
    "\ty_test_pred = model.predict(X_test)\n",
    "\tcm = confusion_matrix(y_test, y_test_pred)\n",
    "\tdisp = ConfusionMatrixDisplay(confusion_matrix=cm, display_labels=[\"Normal\", \"Fraud\"])\n",
    "\tdisp.plot(ax=axs[i])\n",
    "\taxs[i].set_title(model.steps[1][0])\n",
    "plt.show()\n"
   ]
  }
 ],
 "metadata": {
  "kernelspec": {
   "display_name": "ml",
   "language": "python",
   "name": "python3"
  },
  "language_info": {
   "codemirror_mode": {
    "name": "ipython",
    "version": 3
   },
   "file_extension": ".py",
   "mimetype": "text/x-python",
   "name": "python",
   "nbconvert_exporter": "python",
   "pygments_lexer": "ipython3",
   "version": "3.11.9"
  }
 },
 "nbformat": 4,
 "nbformat_minor": 2
}
