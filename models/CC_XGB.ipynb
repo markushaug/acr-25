{
 "cells": [
  {
   "cell_type": "markdown",
   "metadata": {},
   "source": [
    "### Comparison of `Vanilla XGBoost`, `Random-Search Tuned XGBoost` and `Self-Pace-Ensemble boosted XGBoost`"
   ]
  },
  {
   "cell_type": "code",
   "execution_count": 1,
   "metadata": {},
   "outputs": [],
   "source": [
    "RANDOM_STATE = 42"
   ]
  },
  {
   "cell_type": "code",
   "execution_count": 41,
   "metadata": {},
   "outputs": [],
   "source": [
    "# Import libraries\n",
    "import pandas as pd\n",
    "import numpy as np\n",
    "import matplotlib.pyplot as plt\n",
    "from sklearn.model_selection import train_test_split, RandomizedSearchCV, cross_val_score\n",
    "from sklearn.pipeline import Pipeline\n",
    "from sklearn.metrics import make_scorer, classification_report, precision_score, recall_score, f1_score\n",
    "from sklearn.model_selection import StratifiedKFold\n",
    "from sklearn.metrics import confusion_matrix, ConfusionMatrixDisplay\n",
    "import joblib\n",
    "from scipy.stats import mannwhitneyu\n",
    "\n",
    "from xgboost import XGBClassifier\n",
    "from imbens.ensemble import SelfPacedEnsembleClassifier as SPEClassifier\n",
    "\n",
    "import warnings\n",
    "warnings.filterwarnings('ignore')"
   ]
  },
  {
   "cell_type": "markdown",
   "metadata": {},
   "source": [
    "### Preparation"
   ]
  },
  {
   "cell_type": "code",
   "execution_count": 23,
   "metadata": {},
   "outputs": [
    {
     "data": {
      "image/png": "[encoded data removed]",
      "text/plain": [
       "<Figure size 640x480 with 1 Axes>"
      ]
     },
     "metadata": {},
     "output_type": "display_data"
    }
   ],
   "source": [
    "# Importing the dataset\n",
    "path_to_data = '../data/creditcard/creditcard.csv'\n",
    "\n",
    "# col names data set\n",
    "col_names = [\n",
    "    \"Time\",\"V1\",\"V2\",\"V3\",\"V4\",\"V5\",\"V6\",\"V7\",\"V8\",\"V9\",\"V10\",\"V11\",\"V12\",\"V13\",\"V14\",\"V15\",\"V16\",\"V17\",\"V18\",\"V19\",\"V20\",\"V21\",\"V22\",\"V23\",\"V24\",\"V25\",\"V26\",\"V27\",\"V28\",\"Amount\",\"label\"\n",
    "] # V1-V28 are PCA transformed features, but are anonymized due to confidentiality reasons and are not interpretable\n",
    "# Label is 1 if fraud, 0 otherwise\n",
    "\n",
    "# read full data set\n",
    "data = pd.read_csv(path_to_data, names=col_names, index_col=0, header=0)\n",
    "\n",
    "# drop duplicates  & time column\n",
    "data.drop_duplicates(inplace=True)\n",
    "data.drop(\"Time\", axis=1, inplace=True)\n",
    "\n",
    "# Split data sets into X, y respectively\n",
    "X = data.drop(\"label\", axis=1)\n",
    "y = data[\"label\"]\n",
    "\n",
    "# Stratified 80-20 train-test split\n",
    "X_train, X_test, y_train, y_test = train_test_split(X, y, test_size=0.2, random_state=RANDOM_STATE, stratify=y)\n",
    "\n",
    "# Visualize class imbalance\n",
    "plt.bar([\"Normal\", \"Fraud\"], data[\"label\"].value_counts())\n",
    "total = len(data)\n",
    "fraud_percentage = (data[\"label\"].value_counts()[1])\n",
    "normal_percentage = (data[\"label\"].value_counts()[0])\n",
    "\n",
    "plt.text(0, data[\"label\"].value_counts()[0] / 2, f'{normal_percentage}', ha='center', color='black')\n",
    "plt.text(1, data[\"label\"].value_counts()[1] / 2, f'{fraud_percentage}', ha='center', color='white')\n",
    "plt.title(\"Class Distribution\")\n",
    "plt.show()"
   ]
  },
  {
   "cell_type": "markdown",
   "metadata": {},
   "source": [
    "### Define pipelines and search space for RandomizedSearchCV"
   ]
  },
  {
   "cell_type": "code",
   "execution_count": 6,
   "metadata": {},
   "outputs": [],
   "source": [
    "# Random search parameter space, prefix parameters with 'xgb__'\n",
    "search_space_random_tuned = {\n",
    "    'xgb__objective': ['binary:logistic'],\n",
    "    'xgb__max_leaves': [0, 2**6, 2**8],\n",
    "    'xgb__learning_rate': [0.002, 0.1, 0.3],\n",
    "    'xgb__gamma': [0.1, 0.3],\n",
    "    'xgb__max_depth': [6, 12, 20, 25],\n",
    "    'xgb__subsample': [0.4, 0.7, 1],\n",
    "    'xgb__colsample_bytree': [0.4, 0.5, 0.7, 1],\n",
    "    'xgb__reg_alpha': [0, 0.9, 1],\n",
    "    'xgb__reg_lambda': [0.3, 1],\n",
    "    'xgb__eval_metric': ['aucpr'],\n",
    "    'xgb__scale_pos_weight': [1, 2, 4, 580],\n",
    "    'xgb__n_estimators': [100, 170, 500, 700, 1000, 2000, 5000],\n",
    "    'xgb__booster': ['gbtree'],\n",
    "    'xgb__tree_method': ['hist'],\n",
    "}\n",
    "\n",
    "# Vanilla XGBoost\n",
    "vanilla_xgb_pipeline = Pipeline([\n",
    "    ('xgb', XGBClassifier())  # Default XGBoost classifier\n",
    "])\n",
    "\n",
    "# RandomizedSearchCV XGBoost\n",
    "random_search_xgb = Pipeline([\n",
    "    ('xgb', XGBClassifier())\n",
    "])\n",
    "\n",
    "# Randomized search\n",
    "random_search = RandomizedSearchCV(\n",
    "    estimator=random_search_xgb,\n",
    "    param_distributions=search_space_random_tuned,\n",
    "    n_iter=10,\n",
    "    scoring='f1',  # Use F1-score to handle imbalanced classes\n",
    "    cv=StratifiedKFold(n_splits=10), # 10-fold stratified cross-validation\n",
    "    verbose=1,\n",
    "    n_jobs=-1,\n",
    "    random_state=RANDOM_STATE\n",
    ")\n",
    "\n",
    "# Self-paced ensemble classifier with XGBoost as base learner\n",
    "spe_boosted_xgb_pipeline = Pipeline([\n",
    "    ('spe_xgb', SPEClassifier(\n",
    "\t\testimator=XGBClassifier(),\n",
    "    )) \n",
    "])"
   ]
  },
  {
   "cell_type": "markdown",
   "metadata": {},
   "source": [
    "### RandomSearch Tuning"
   ]
  },
  {
   "cell_type": "code",
   "execution_count": 7,
   "metadata": {},
   "outputs": [
    {
     "name": "stdout",
     "output_type": "stream",
     "text": [
      "Running RandomizedSearchCV for XGBoost...\n",
      "Fitting 10 folds for each of 10 candidates, totalling 100 fits\n",
      "Best parameters from RandomizedSearchCV: {'xgb__tree_method': 'hist', 'xgb__subsample': 0.4, 'xgb__scale_pos_weight': 580, 'xgb__reg_lambda': 0.3, 'xgb__reg_alpha': 0.9, 'xgb__objective': 'binary:logistic', 'xgb__n_estimators': 700, 'xgb__max_leaves': 256, 'xgb__max_depth': 20, 'xgb__learning_rate': 0.1, 'xgb__gamma': 0.3, 'xgb__eval_metric': 'aucpr', 'xgb__colsample_bytree': 1, 'xgb__booster': 'gbtree'}\n"
     ]
    }
   ],
   "source": [
    "# Run random search on XGBoost and fit to training data\n",
    "print(\"Running RandomizedSearchCV for XGBoost...\")\n",
    "random_search.fit(X_train, y_train)\n",
    "\n",
    "# Best parameters from random search\n",
    "best_params = random_search.best_params_\n",
    "print(f\"Best parameters from RandomizedSearchCV: {best_params}\")\n",
    "\n",
    "# Best estimator from RandomizedSearchCV\n",
    "best_xgb_model = random_search.best_estimator_\n",
    "\n",
    "# save model\n",
    "joblib.dump(best_xgb_model, 'saved/best_xgb_model.pkl')"
   ]
  },
  {
   "cell_type": "code",
   "execution_count": 15,
   "metadata": {},
   "outputs": [],
   "source": [
    "models = [\n",
    "    ('Vanilla XGBoost', vanilla_xgb_pipeline),\n",
    "    ('RandomizedSearchCV XGBoost', best_xgb_model),\n",
    "    ('SPE-Boosted XGBoost', spe_boosted_xgb_pipeline)\n",
    "]\n",
    "\n",
    "# Define custom scoring methods\n",
    "scoring_metrics = {\n",
    "    'precision': make_scorer(precision_score, average='binary'),\n",
    "    'recall': make_scorer(recall_score, average='binary'),  \n",
    "    'f1': make_scorer(f1_score, average='binary')\n",
    "}"
   ]
  },
  {
   "cell_type": "markdown",
   "metadata": {},
   "source": [
    "### Training & Evaluation"
   ]
  },
  {
   "cell_type": "code",
   "execution_count": 36,
   "metadata": {},
   "outputs": [
    {
     "name": "stdout",
     "output_type": "stream",
     "text": [
      "Evaluating Vanilla XGBoost.\n",
      "Precision Scores:  [0.9473684210526315, 0.9333333333333333, 1.0, 0.9722222222222222, 0.9024390243902439, 0.9459459459459459, 0.9230769230769231, 0.9090909090909091, 0.95, 0.9459459459459459]\n",
      "Recall Scores:  [0.7659574468085106, 0.8936170212765957, 0.8297872340425532, 0.7291666666666666, 0.7708333333333334, 0.7291666666666666, 0.7659574468085106, 0.851063829787234, 0.8085106382978723, 0.7446808510638298]\n",
      "F1 Scores:  [0.8470588235294118, 0.9130434782608695, 0.9069767441860465, 0.8333333333333334, 0.8314606741573034, 0.8235294117647058, 0.8372093023255814, 0.8791208791208791, 0.8735632183908046, 0.8333333333333334]\n",
      "Evaluating RandomizedSearchCV XGBoost.\n",
      "Precision Scores:  [0.9230769230769231, 0.8936170212765957, 0.9512195121951219, 0.9487179487179487, 0.8863636363636364, 0.9, 0.925, 0.8541666666666666, 0.9761904761904762, 0.9024390243902439]\n",
      "Recall Scores:  [0.7659574468085106, 0.8936170212765957, 0.8297872340425532, 0.7708333333333334, 0.8125, 0.75, 0.7872340425531915, 0.8723404255319149, 0.8723404255319149, 0.7872340425531915]\n",
      "F1 Scores:  [0.8372093023255814, 0.8936170212765957, 0.8863636363636364, 0.8505747126436781, 0.8478260869565217, 0.8181818181818182, 0.8505747126436781, 0.8631578947368421, 0.9213483146067416, 0.8409090909090909]\n",
      "Evaluating SPE-Boosted XGBoost.\n",
      "Precision Scores:  [0.9487179487179487, 0.9130434782608695, 0.975609756097561, 0.9743589743589743, 0.9285714285714286, 0.9444444444444444, 0.9487179487179487, 0.9090909090909091, 0.9761904761904762, 0.9487179487179487]\n",
      "Recall Scores:  [0.7872340425531915, 0.8936170212765957, 0.851063829787234, 0.7916666666666666, 0.8125, 0.7083333333333334, 0.7872340425531915, 0.851063829787234, 0.8723404255319149, 0.7872340425531915]\n",
      "F1 Scores:  [0.8604651162790697, 0.9032258064516129, 0.9090909090909091, 0.8735632183908046, 0.8666666666666667, 0.8095238095238095, 0.8604651162790697, 0.8791208791208791, 0.9213483146067416, 0.8604651162790697]\n"
     ]
    }
   ],
   "source": [
    "# Number of cross-validation splits\n",
    "n_splits = 10\n",
    "\n",
    "# Stratified K-Fold cross-validator to ensure class distribution in splits is the same as in the entire dataset\n",
    "skf = StratifiedKFold(n_splits=n_splits, shuffle=True, random_state=RANDOM_STATE)\n",
    "\n",
    "# To store results\n",
    "results = {}\n",
    "\n",
    "# Evaluate each model\n",
    "for model_name, model in models:\n",
    "    print(f\"Evaluating {model_name}.\", end='\\n')\n",
    "    # Arrays to store cross-validated metrics for each run\n",
    "    precision_scores = []\n",
    "    recall_scores = []\n",
    "    f1_scores = []\n",
    "    \n",
    "    # Perform 10 independent runs (cross-validation splits)\n",
    "    for train_idx, test_idx in skf.split(X, y):\n",
    "        print(f\"Running fold {len(precision_scores) + 1} of {n_splits}...\", end='\\r')\n",
    "        # Split into train/test sets based on cross-validation splits\n",
    "        X_train_cv, X_test_cv = X.iloc[train_idx], X.iloc[test_idx]\n",
    "        y_train_cv, y_test_cv = y.iloc[train_idx], y.iloc[test_idx]\n",
    "        \n",
    "        # Fit model on training data\n",
    "        model.fit(X_train_cv, y_train_cv)\n",
    "        \n",
    "        # Predict on test data\n",
    "        y_pred_cv = model.predict(X_test_cv)\n",
    "        \n",
    "        # Calculate metrics for this split\n",
    "        precision = precision_score(y_test_cv, y_pred_cv, average='binary')\n",
    "        recall = recall_score(y_test_cv, y_pred_cv, average='binary')\n",
    "        f1 = f1_score(y_test_cv, y_pred_cv, average='binary')\n",
    "        \n",
    "        # Append metrics to corresponding arrays\n",
    "        precision_scores.append(precision)\n",
    "        recall_scores.append(recall)\n",
    "        f1_scores.append(f1)\n",
    "\n",
    "    print(\"Precision Scores: \", precision_scores)\n",
    "    print('Recall Scores: ', recall_scores)\n",
    "    print('F1 Scores: ', f1_scores)\n",
    "\n",
    "    folds_scores = {\n",
    "        'precision': precision_scores,\n",
    "        'recall': recall_scores,\n",
    "        'f1': f1_scores\n",
    "    }\n",
    "\n",
    "    \n",
    "    # Calculate mean and standard deviation for each metric\n",
    "    results[model_name] = {\n",
    "        'precision': (np.mean(precision_scores), np.std(precision_scores)), \n",
    "        'recall': (np.mean(recall_scores), np.std(recall_scores)),\n",
    "        'f1': (np.mean(f1_scores), np.std(f1_scores)),\n",
    "        'folds_scores': folds_scores\n",
    "    }"
   ]
  },
  {
   "cell_type": "code",
   "execution_count": 46,
   "metadata": {},
   "outputs": [
    {
     "name": "stdout",
     "output_type": "stream",
     "text": [
      "Vanilla XGBoost Performance:\n",
      " Precision: 0.9429 ± 0.0273\n",
      " Recall: 0.7889 ± 0.0523\n",
      " F1 Score: 0.8579 ± 0.0313\n",
      "\n",
      "\n",
      "RandomizedSearchCV XGBoost Performance:\n",
      " Precision: 0.9161 ± 0.0342\n",
      " Recall: 0.8142 ± 0.0481\n",
      " F1 Score: 0.8610 ± 0.0292\n",
      "\n",
      "\n",
      "SPE-Boosted XGBoost Performance:\n",
      " Precision: 0.9467 ± 0.0232\n",
      " Recall: 0.8142 ± 0.0513\n",
      " F1 Score: 0.8744 ± 0.0302\n",
      "\n",
      "\n",
      "Best model: SPE-Boosted XGBoost\n",
      "\n",
      "\n",
      "Mann-Whitney U Test between Vanilla XGBoost and RandomizedSearchCV XGBoost:\n",
      "F1 p-value: 0.4958\n",
      "Vanilla XGBoost and RandomizedSearchCV XGBoost do not have significantly different F1 scores.\n",
      "\n",
      "\n",
      "Mann-Whitney U Test between Vanilla XGBoost and SPE-Boosted XGBoost:\n",
      "F1 p-value: 0.2718\n",
      "Vanilla XGBoost and SPE-Boosted XGBoost do not have significantly different F1 scores.\n",
      "\n",
      "\n",
      "Mann-Whitney U Test between RandomizedSearchCV XGBoost and Vanilla XGBoost:\n",
      "F1 p-value: 0.4958\n",
      "RandomizedSearchCV XGBoost and Vanilla XGBoost do not have significantly different F1 scores.\n",
      "\n",
      "\n",
      "Mann-Whitney U Test between RandomizedSearchCV XGBoost and SPE-Boosted XGBoost:\n",
      "F1 p-value: 0.2254\n",
      "RandomizedSearchCV XGBoost and SPE-Boosted XGBoost do not have significantly different F1 scores.\n",
      "\n",
      "\n",
      "Mann-Whitney U Test between SPE-Boosted XGBoost and Vanilla XGBoost:\n",
      "F1 p-value: 0.2718\n",
      "SPE-Boosted XGBoost and Vanilla XGBoost do not have significantly different F1 scores.\n",
      "\n",
      "\n",
      "Mann-Whitney U Test between SPE-Boosted XGBoost and RandomizedSearchCV XGBoost:\n",
      "F1 p-value: 0.2254\n",
      "SPE-Boosted XGBoost and RandomizedSearchCV XGBoost do not have significantly different F1 scores.\n"
     ]
    }
   ],
   "source": [
    "# Output the results for each model in mean ± std format\n",
    "for model_name, metrics in results.items():\n",
    "    print(f\"{model_name} Performance:\")\n",
    "    print(f\" Precision: {metrics['precision'][0]:.4f} ± {metrics['precision'][1]:.4f}\")\n",
    "    print(f\" Recall: {metrics['recall'][0]:.4f} ± {metrics['recall'][1]:.4f}\")\n",
    "    print(f\" F1 Score: {metrics['f1'][0]:.4f} ± {metrics['f1'][1]:.4f}\")\n",
    "    print(\"\\n\")\n",
    "\n",
    "# get best model\n",
    "best_model_name = max(results, key=lambda x: results[x]['f1'][0])\n",
    "best_model = models[[name for name, _ in models].index(best_model_name)][1]\n",
    "\n",
    "print(f\"Best model: {best_model_name}\")\n",
    "\n",
    "# Calculate p-values for each pair of models on f1 score\n",
    "for model1_name, model1_metrics in results.items():\n",
    "    for model2_name, model2_metrics in results.items():\n",
    "        if model1_name == model2_name:\n",
    "            continue\n",
    "        print(f\"\\n\\nMann-Whitney U Test between {model1_name} and {model2_name}:\")\n",
    "        model1_scores = model1_metrics['folds_scores']['f1']\n",
    "        model2_scores = model2_metrics['folds_scores']['f1']\n",
    "        _, p_value = mannwhitneyu(model1_scores, model2_scores)\n",
    "        print(f\"F1 p-value: {p_value:.4f}\")\n",
    "\n",
    "        # Print result of test\n",
    "        if p_value < 0.05:\n",
    "            print(f\"{model1_name} and {model2_name} have significantly different F1 scores.\")\n",
    "        else:\n",
    "            print(f\"{model1_name} and {model2_name} do not have significantly different F1 scores.\")"
   ]
  },
  {
   "cell_type": "code",
   "execution_count": 51,
   "metadata": {},
   "outputs": [
    {
     "data": {
      "text/plain": [
       "<sklearn.metrics._plot.confusion_matrix.ConfusionMatrixDisplay at 0x37d953350>"
      ]
     },
     "execution_count": 51,
     "metadata": {},
     "output_type": "execute_result"
    },
    {
     "data": {
      "image/png": "[encoded data removed]",
      "text/plain": [
       "<Figure size 640x480 with 2 Axes>"
      ]
     },
     "metadata": {},
     "output_type": "display_data"
    }
   ],
   "source": [
    "## Confusion matrix for best model\n",
    "y_pred = best_model.predict(X_test)\n",
    "\n",
    "# Confusion matrix\n",
    "cm = confusion_matrix(y_test, y_pred)\n",
    "disp = ConfusionMatrixDisplay(confusion_matrix=cm, display_labels=['Normal', 'Fraud'])\n",
    "disp.plot()"
   ]
  },
  {
   "cell_type": "code",
   "execution_count": null,
   "metadata": {},
   "outputs": [],
   "source": []
  }
 ],
 "metadata": {
  "kernelspec": {
   "display_name": "Python 3",
   "language": "python",
   "name": "python3"
  },
  "language_info": {
   "codemirror_mode": {
    "name": "ipython",
    "version": 3
   },
   "file_extension": ".py",
   "mimetype": "text/x-python",
   "name": "python",
   "nbconvert_exporter": "python",
   "pygments_lexer": "ipython3",
   "version": "3.11.9"
  }
 },
 "nbformat": 4,
 "nbformat_minor": 2
}
